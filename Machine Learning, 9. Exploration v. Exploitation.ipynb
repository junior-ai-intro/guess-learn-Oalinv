{
 "cells": [
  {
   "cell_type": "markdown",
   "metadata": {},
   "source": [
    "<h1 align = 'center'>Guessing Games</h1>\n",
    "<h3 align = 'center'>machine learning, one step at a time</h3>\n",
    "<h3 align = 'center'>Step 9. Exploration v. Exploitation</h3>"
   ]
  },
  {
   "cell_type": "markdown",
   "metadata": {},
   "source": [
    "**9. Exploration v. exploitation**\n",
    "\n",
    "_Reinforcment learning_ requires two steps: __exploration__ and __exploitation__:\n",
    "\n",
    "- __Exploration__: where am I? what actions can I take? what happens when I take an action?\n",
    "- __Exploitation__: can I use my past knowledge of penalties and rewards to solve the problem?\n",
    "\n",
    "We _explored_ the maze by randomly examining it many times. How can we _exploit_ those results to find our way quickly and easily?\n",
    "\n",
    "Let's go back building our q table:"
   ]
  },
  {
   "cell_type": "code",
   "execution_count": 26,
   "metadata": {},
   "outputs": [
    {
     "name": "stdout",
     "output_type": "stream",
     "text": [
      "[[[-294.    0.    0. -308.]\n",
      "  [ -65.  -76.    0.    0.]\n",
      "  [ -21.    0.  -19.    0.]\n",
      "  [   0.    0.    0.    0.]]\n",
      "\n",
      " [[   0.    0.  -74.  -77.]\n",
      "  [   0.    0.    0.    0.]\n",
      "  [   0.   -3.    0.   -4.]\n",
      "  [   0.    0.    0.    0.]]\n",
      "\n",
      " [[   0.  -25.    0.  -17.]\n",
      "  [  -4.   -4.   -9.    0.]\n",
      "  [   0.    0.    0.    0.]\n",
      "  [   0.    0.    0.    0.]]\n",
      "\n",
      " [[   0.    0.    0.    0.]\n",
      "  [   0.    0.    0.    0.]\n",
      "  [   0.    0.    0.    0.]\n",
      "  [   0.    0.    0.    0.]]]\n"
     ]
    }
   ],
   "source": [
    "import numpy as np\n",
    "from maze import Maze\n",
    "maze = Maze()\n",
    "\n",
    "# this converts N,S,E,W to 0,1,2,3\n",
    "def index_of_action(action):\n",
    "    return maze.action_space().index(action)\n",
    "\n",
    "q = np.zeros((4,4,4))\n",
    "for n in range(1000):\n",
    "    state = maze.reset()\n",
    "    done = False\n",
    "    while not done:\n",
    "        action = maze.sample()\n",
    "        new_state, reward, done = maze.step(action)\n",
    "        row = state[0]\n",
    "        col = state[1]\n",
    "        q[row][col][index_of_action(action)] += reward\n",
    "        state = new_state\n",
    "        \n",
    "print(q)"
   ]
  },
  {
   "cell_type": "markdown",
   "metadata": {},
   "source": [
    "Here are the results for (0,0), marked up, just to make things clear:\n",
    "\n",
    "<pre>\n",
    "<font color='blue'>           N     S     E     W</font>\n",
    "<font color='blue'>(0,0)</font>[[[-294.    0.    0. -308.]</pre>\n",
    "Around half the attempts ended the exploration by going out of bounds (by stepping either north or west) Doesn't that seem a little wasteful?\n",
    "\n",
    "Or put another way: for any given state, if an action has resulted in penalties in the past, can we avoid that action in the future?\n",
    "\n",
    "We would like to use the q table to find our way, based on past results... but first! we need the amazing power of _argmax_:"
   ]
  },
  {
   "cell_type": "code",
   "execution_count": 6,
   "metadata": {},
   "outputs": [
    {
     "name": "stdout",
     "output_type": "stream",
     "text": [
      "2\n"
     ]
    }
   ],
   "source": [
    "import numpy as np\n",
    "\n",
    "# here is an array of rewards...\n",
    "a = [-100,-200,0,-50]\n",
    "\n",
    "# I wish there was a function to\n",
    "# tell me the index of the entry\n",
    "# that has the maximum value...\n",
    "# in this case, what is the index\n",
    "# of the entry with a value of\n",
    "# zero, indicating no penalties?\n",
    "\n",
    "# enter argmax! which return the\n",
    "# index of the maximum value. wow.\n",
    "print(np.argmax(a))"
   ]
  },
  {
   "cell_type": "markdown",
   "metadata": {},
   "source": [
    "OK good now that we have a fully populated q-table and the awesome power of _argmax_, let's traverse the maze:"
   ]
  },
  {
   "cell_type": "code",
   "execution_count": 29,
   "metadata": {},
   "outputs": [
    {
     "name": "stdout",
     "output_type": "stream",
     "text": [
      "state [0 0] row = 0 col = 0\n",
      "q[row][col] [-294.    0.    0. -308.]\n"
     ]
    },
    {
     "ename": "TypeError",
     "evalue": "action_space() takes 1 positional argument but 2 were given",
     "output_type": "error",
     "traceback": [
      "\u001b[0;31m---------------------------------------------------------------------------\u001b[0m",
      "\u001b[0;31mTypeError\u001b[0m                                 Traceback (most recent call last)",
      "\u001b[0;32m<ipython-input-29-4455ca247107>\u001b[0m in \u001b[0;36m<module>\u001b[0;34m()\u001b[0m\n\u001b[1;32m     13\u001b[0m     \u001b[0mcol\u001b[0m \u001b[0;34m=\u001b[0m \u001b[0mstate\u001b[0m\u001b[0;34m[\u001b[0m\u001b[0;36m1\u001b[0m\u001b[0;34m]\u001b[0m\u001b[0;34m\u001b[0m\u001b[0m\n\u001b[1;32m     14\u001b[0m     \u001b[0maction_index\u001b[0m \u001b[0;34m=\u001b[0m \u001b[0mnp\u001b[0m\u001b[0;34m.\u001b[0m\u001b[0margmax\u001b[0m\u001b[0;34m(\u001b[0m\u001b[0mq\u001b[0m\u001b[0;34m[\u001b[0m\u001b[0mrow\u001b[0m\u001b[0;34m]\u001b[0m\u001b[0;34m[\u001b[0m\u001b[0mcol\u001b[0m\u001b[0;34m]\u001b[0m\u001b[0;34m)\u001b[0m\u001b[0;34m\u001b[0m\u001b[0m\n\u001b[0;32m---> 15\u001b[0;31m     \u001b[0maction\u001b[0m \u001b[0;34m=\u001b[0m \u001b[0mmaze\u001b[0m\u001b[0;34m.\u001b[0m\u001b[0maction_space\u001b[0m\u001b[0;34m(\u001b[0m\u001b[0maction_index\u001b[0m\u001b[0;34m)\u001b[0m\u001b[0;34m\u001b[0m\u001b[0m\n\u001b[0m\u001b[1;32m     16\u001b[0m     \u001b[0mmaze\u001b[0m\u001b[0;34m.\u001b[0m\u001b[0mstep\u001b[0m\u001b[0;34m(\u001b[0m\u001b[0maction\u001b[0m\u001b[0;34m)\u001b[0m\u001b[0;34m\u001b[0m\u001b[0m\n\u001b[1;32m     17\u001b[0m \u001b[0;34m\u001b[0m\u001b[0m\n",
      "\u001b[0;31mTypeError\u001b[0m: action_space() takes 1 positional argument but 2 were given"
     ]
    }
   ],
   "source": [
    "# here is how we might take the first step...\n",
    "\n",
    "state = maze.reset()   # this returns 0,0\n",
    "row = state[0]\n",
    "col = state[1]\n",
    "print('state', state, 'row =', row, 'col =', col)\n",
    "print('q[row][col]', q[row][col])\n",
    "\n",
    "state = maze.reset()\n",
    "done = False\n",
    "while not done:\n",
    "    row = state[0]\n",
    "    col = state[1]\n",
    "    action_index = np.argmax(q[row][col])\n",
    "    action = maze.action_space(action_index)\n",
    "    maze.step(action)\n",
    "    "
   ]
  },
  {
   "cell_type": "code",
   "execution_count": null,
   "metadata": {},
   "outputs": [],
   "source": [
    "(ever feel like someone was asking you the same question, different ways, because they are trying to drive home a point?)\n",
    "\n",
    "__Here is the point:__\n",
    "- if we always pick an action at random, we ignore everything that we have learned\n",
    "- if we always pick the best action based on history, we won't have any history from which to choose.\n"
   ]
  }
 ],
 "metadata": {
  "kernelspec": {
   "display_name": "Python 3",
   "language": "python",
   "name": "python3"
  },
  "language_info": {
   "codemirror_mode": {
    "name": "ipython",
    "version": 3
   },
   "file_extension": ".py",
   "mimetype": "text/x-python",
   "name": "python",
   "nbconvert_exporter": "python",
   "pygments_lexer": "ipython3",
   "version": "3.6.5"
  }
 },
 "nbformat": 4,
 "nbformat_minor": 2
}
