{
 "cells": [
  {
   "cell_type": "markdown",
   "metadata": {},
   "source": [
    "<h1 align = 'center'>Guessing Games</h1>\n",
    "<h3 align = 'center'>machine learning, one step at a time</h3>\n",
    "<h3 align = 'center'>Step 8. A Random Walk While Paying Attention</h3>"
   ]
  },
  {
   "cell_type": "markdown",
   "metadata": {},
   "source": [
    "**8. A random walk while paying attention.**\n",
    "\n",
    "When we took our random walk, we ignored everything that happened except for one event: stumbling accross the exit. What if we paid attention, and learned from our mistakes?\n",
    "\n",
    "For starters, let's make a __RandomWalker__ class that gives a clear measure of how many attempts are required before it finds the exit. It's not a complicated class, it just has a handful of variables that keep track of its success rate, and a __str__ function to make a pretty printout."
   ]
  },
  {
   "cell_type": "code",
   "execution_count": 1,
   "metadata": {},
   "outputs": [],
   "source": [
    "from maze import *\n",
    "\n",
    "class RandomWalker():\n",
    "    def __init__(self, empty_maze = False): \n",
    "        self.reset(empty_maze)\n",
    "        \n",
    "    def reset(self, empty_maze = False):\n",
    "        self.empty_maze = empty_maze\n",
    "        self.max_attempts = 0       # ====================== #\n",
    "        self.min_attempts = 2**18   # Create variables to    #\n",
    "        self.total_steps = 0        # keep track of success  #\n",
    "        self.total_attempts = 0     # rate across attempts.  #\n",
    "        self.total_completions = 0  # ====================== #\n",
    "\n",
    "    def go_for_a_walk(self, goal=1):\n",
    "        self.reset()\n",
    "        maze = Maze(self.empty_maze)\n",
    "        attempts = 0\n",
    "        while self.total_completions < goal:       \n",
    "            done = False\n",
    "            maze.reset()\n",
    "            while not done:\n",
    "                observation, reward, done = maze.step(maze.sample())\n",
    "            self.total_attempts += 1                                   # ============================ #\n",
    "            attempts += 1                                              #                              #\n",
    "            if reward > 0:                                             # This is just a bunch of      #\n",
    "                self.total_completions += 1                            # accounting... no logic here, #\n",
    "                self.max_attempts = max(self.max_attempts, attempts)   # move along, move along.      #\n",
    "                self.min_attempts = min(self.min_attempts, attempts)   #                              #\n",
    "                attempts = 0                                           # ============================ #\n",
    "                      \n",
    "    def __str__(self):\n",
    "        out =  '\\nAttempts     = ' + str(self.total_attempts)\n",
    "        out += '\\nCompletions  = ' + str(self.total_completions)\n",
    "        out += '\\nSuccess rate = ' + str(self.total_completions / self.total_attempts)\n",
    "        out += '\\nAvg Attempts = ' + str(self.total_attempts / self.total_completions)\n",
    "        out += '\\nMax Attempts = ' + str(self.max_attempts)\n",
    "        out += '\\nMin Attempts = ' + str(self.min_attempts)\n",
    "        return out"
   ]
  },
  {
   "cell_type": "markdown",
   "metadata": {},
   "source": [
    "All that code just to track some simple statistics... like: what happens if we solve the maze randomly once, versus 100 times?"
   ]
  },
  {
   "cell_type": "code",
   "execution_count": 7,
   "metadata": {},
   "outputs": [
    {
     "name": "stdout",
     "output_type": "stream",
     "text": [
      "\n",
      "Attempts     = 160\n",
      "Completions  = 1\n",
      "Success rate = 0.00625\n",
      "Avg Attempts = 160.0\n",
      "Max Attempts = 160\n",
      "Min Attempts = 160\n",
      "\n",
      "Attempts     = 27893\n",
      "Completions  = 100\n",
      "Success rate = 0.0035851288853834297\n",
      "Avg Attempts = 278.93\n",
      "Max Attempts = 1599\n",
      "Min Attempts = 3\n"
     ]
    }
   ],
   "source": [
    "r = RandomWalker(empty_maze=True)\n",
    "r.go_for_a_walk()\n",
    "print(r)\n",
    "\n",
    "r.go_for_a_walk(goal=100)\n",
    "print(r)"
   ]
  },
  {
   "cell_type": "markdown",
   "metadata": {},
   "source": [
    "In machine learning terms, the maze is an __environment__. When the environment is reset(), it provides an initial __observation__, which, in the case of the maze, describes the positon of the player, initially: (0,0).\n",
    "\n",
    "To advance the __environment__ one time step, call step() and provide an __action__; the __environment__ will respond with 3-part feedback: an __observation__, a __reward__, and a __done__ flag.\n",
    "\n",
    "The __action__ is any entry from the environment's collection of possible actions (the __action space__). In the case of the maze, the __action space__ includes four actions: move north, move south, move east, or move west. Each __action__ is represented by a constant: Maze.N, Maze.S, Maze.E, Maze.W.\n",
    "\n",
    "The __reward__ indicates whether the outcome was positive (+1 for reaching the exit), negative (-1 for moving on to a blocked space or moving out of bounds), or zero for moving to an open space. Note that there is no reward for making progress... the only positive reward is acheived by completing the trip and exiting the maze.\n",
    "\n",
    "The __done__ flag indicates that the attempt is traverse the maze is complete, either because the player succeeded in reaching the exit or failed by either moving onto a blocked space or by moving out of bounds.\n"
   ]
  },
  {
   "cell_type": "code",
   "execution_count": 3,
   "metadata": {},
   "outputs": [],
   "source": [
    "from maze import *\n",
    "\n",
    "class QPlayer():\n",
    "    \n",
    "    EXPLORE = 0.01\n",
    "    \n",
    "    N,S,E,W = 0,1,2,3\n",
    "    \n",
    "    def __init__(self):\n",
    "        super().__init__()\n",
    "        self.q_table = np.zeros([4*4,4])\n",
    "        \n",
    "    def run(self, environment, explore=EXPLORE):\n",
    "        observation = environment.reset()\n",
    "        done = False\n",
    "        complete = 0\n",
    "        while not done:\n",
    "            state = observation[0] * 4 + observation[1]\n",
    "            action = np.argmax(self.q_table[state])\n",
    "            if action == 0 or np.random.random() < explore:\n",
    "                action = environment.sample()\n",
    "            observation, reward, done = environment.step(action)\n",
    "            if done:\n",
    "                self.q_table[state][action] = reward\n",
    "                return reward\n",
    "            else:\n",
    "                future_state = observation[0] * 4 + observation[1]\n",
    "                self.q_table[state][action] += reward + np.amax(self.q_table[future_state])"
   ]
  },
  {
   "cell_type": "code",
   "execution_count": 4,
   "metadata": {},
   "outputs": [
    {
     "name": "stdout",
     "output_type": "stream",
     "text": [
      "[[ 0.  0. 21.  0.]\n",
      " [ 0. -1. 35.  0.]\n",
      " [ 0. 35. -1.  0.]\n",
      " [ 0.  0.  0.  0.]\n",
      " [ 0.  0. -1.  0.]\n",
      " [ 0.  0.  0.  0.]\n",
      " [ 0. -1. 21. -1.]\n",
      " [-1.  7.  0.  0.]\n",
      " [ 0. -1.  0.  0.]\n",
      " [-1. -1. -1.  0.]\n",
      " [ 0.  0.  0.  0.]\n",
      " [ 0.  1.  0.  0.]\n",
      " [ 0.  0.  0.  0.]\n",
      " [ 0.  0.  0.  0.]\n",
      " [ 0.  0.  0.  0.]\n",
      " [ 0.  0.  0.  0.]]\n"
     ]
    }
   ],
   "source": [
    "q = QPlayer()\n",
    "e = Maze()\n",
    "complete = 0\n",
    "for n in range(100000):\n",
    "    complete += 1 if q.run(e) > 0 else 0\n",
    "    if np.sum(q.q_table) > 100:\n",
    "        print(q.q_table)\n",
    "        break"
   ]
  },
  {
   "cell_type": "code",
   "execution_count": 5,
   "metadata": {},
   "outputs": [
    {
     "name": "stdout",
     "output_type": "stream",
     "text": [
      "===================================\n",
      "         ...  ...  ...  +++ \n",
      "enter->  (1)  (2)  (3)  +++ \n",
      "         ...  ...  ...  +++ \n",
      "\n",
      "         ...  +++  ...  ... \n",
      "         ...  +++  (4)  (5) \n",
      "         ...  +++  ...  ... \n",
      "\n",
      "         ...  ...  +++  ... \n",
      "         ...  ...  +++  (6) \n",
      "         ...  ...  +++  ... \n",
      "\n",
      "         +++  +++  ...  ... \n",
      "         +++  +++  ...  (7)  <-exit\n",
      "         +++  +++  ...  ... \n",
      "\n",
      "===================================\n"
     ]
    }
   ],
   "source": [
    "q.run(e, explore=0.0)\n",
    "print(e)"
   ]
  },
  {
   "cell_type": "code",
   "execution_count": 6,
   "metadata": {},
   "outputs": [
    {
     "name": "stdout",
     "output_type": "stream",
     "text": [
      "===================================\n",
      "         ...  ...  ...  +++ \n",
      "enter->  (3)  ...  ...  +++ \n",
      "         ...  ...  ...  +++ \n",
      "\n",
      "         ...  +++  ...  ... \n",
      "         (4)  +++  ...  ... \n",
      "         ...  +++  ...  ... \n",
      "\n",
      "         ...  ...  +++  ... \n",
      "         ...  ...  +++  ... \n",
      "         ...  ...  +++  ... \n",
      "\n",
      "         +++  +++  ...  ... \n",
      "         +++  +++  ...  ...  <-exit\n",
      "         +++  +++  ...  ... \n",
      "\n",
      "===================================\n"
     ]
    }
   ],
   "source": [
    "q.run(e, explore=1.0)\n",
    "print(e)"
   ]
  },
  {
   "cell_type": "code",
   "execution_count": null,
   "metadata": {},
   "outputs": [],
   "source": []
  }
 ],
 "metadata": {
  "kernelspec": {
   "display_name": "Python 3",
   "language": "python",
   "name": "python3"
  },
  "language_info": {
   "codemirror_mode": {
    "name": "ipython",
    "version": 3
   },
   "file_extension": ".py",
   "mimetype": "text/x-python",
   "name": "python",
   "nbconvert_exporter": "python",
   "pygments_lexer": "ipython3",
   "version": "3.6.4"
  }
 },
 "nbformat": 4,
 "nbformat_minor": 2
}
