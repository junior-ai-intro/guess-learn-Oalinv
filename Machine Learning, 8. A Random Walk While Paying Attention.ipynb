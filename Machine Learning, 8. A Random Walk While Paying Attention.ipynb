{
 "cells": [
  {
   "cell_type": "markdown",
   "metadata": {},
   "source": [
    "<h1 align = 'center'>Guessing Games</h1>\n",
    "<h3 align = 'center'>machine learning, one step at a time</h3>\n",
    "<h3 align = 'center'>Step 8. A Random Walk While Paying Attention</h3>"
   ]
  },
  {
   "cell_type": "markdown",
   "metadata": {},
   "source": [
    "**8. A random walk while paying attention.**\n",
    "\n",
    "When we took our random walk, we ignored everything that happened except for one event: stumbling accross the exit. What if we paid attention, and learned from our mistakes?\n",
    "\n",
    "Let's start thinking about the maze in terms of machine learning: _the art of accumulating knowledge by learning from mistakes_."
   ]
  },
  {
   "cell_type": "markdown",
   "metadata": {},
   "source": [
    "In machine learning terms, the maze is an __environment__. An __environment__ presents a problem, and gives feedback as we seek a solution.\n",
    "\n",
    "For any given problem, a basic machine learning __environment__ allows you to:\n",
    "- start over (and be informed of your starting point)\n",
    "- examine examples of available actions (...can I move? jump? push a button? play a card?)\n",
    "- take one step (and be informed of your progress, for better or worse) \n",
    "- be informed of the end of your attempt to solve the problem (ie, __game over__)\n",
    "\n",
    "(you can find lots of environments organizes along these line, like at the Open AI Gym: https://gym.openai.com/envs/#classic_control)\n",
    "\n",
    "Back to the __Maze__, which provides these functions:<br>\n",
    "> __reset()__ lets you start over.<br>\n",
    "> __sample()__ provides an example of an action (move north, move south...)<br>\n",
    "> __step(action)__ lets you take an action and get feedback... move east!, and let me know how that goes.<br>\n",
    "\n",
    "Let's try those one at a time:"
   ]
  },
  {
   "cell_type": "code",
   "execution_count": 4,
   "metadata": {},
   "outputs": [
    {
     "data": {
      "text/plain": [
       "array([0, 0])"
      ]
     },
     "execution_count": 4,
     "metadata": {},
     "output_type": "execute_result"
    }
   ],
   "source": [
    "from maze import *\n",
    "\n",
    "m = Maze()\n",
    "m.reset()"
   ]
  },
  {
   "cell_type": "markdown",
   "metadata": {},
   "source": [
    "In other words, __you are here: 0,0__.\n",
    "\n",
    "Great.\n",
    "\n",
    "The next reasonable question might be: _what can I do from here?_\n",
    "\n",
    "Or, in typical machine learning terms: what __actions__ can I take?\n",
    "\n",
    "For the __Maze__, an __action__ is any entry from the environment's collection of possible actions (that's called the __action space__, which includes four actions: move north, move south, move east, or move west).\n",
    "\n",
    "But let's say we don't know it's a maze, so we are not aware of the possibilities of moving north, south, east, or west. How do we discover what __actions__ we can take?\n",
    "\n"
   ]
  },
  {
   "cell_type": "code",
   "execution_count": null,
   "metadata": {},
   "outputs": [],
   "source": []
  }
 ],
 "metadata": {
  "kernelspec": {
   "display_name": "Python 3",
   "language": "python",
   "name": "python3"
  },
  "language_info": {
   "codemirror_mode": {
    "name": "ipython",
    "version": 3
   },
   "file_extension": ".py",
   "mimetype": "text/x-python",
   "name": "python",
   "nbconvert_exporter": "python",
   "pygments_lexer": "ipython3",
   "version": "3.6.5"
  }
 },
 "nbformat": 4,
 "nbformat_minor": 2
}
