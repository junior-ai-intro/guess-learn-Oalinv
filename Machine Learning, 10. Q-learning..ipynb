{
 "cells": [
  {
   "cell_type": "markdown",
   "metadata": {},
   "source": [
    "<h1 align = 'center'>Guessing Games</h1>\n",
    "<h3 align = 'center'>machine learning, one step at a time</h3>\n",
    "<h3 align = 'center'>Step 10. Q-learning</h3>"
   ]
  },
  {
   "cell_type": "markdown",
   "metadata": {},
   "source": [
    "**10. Q-learning**\n",
    "\n",
    "<u>Wikipedia</u> says:\n",
    "\n",
    "_Q-learning is a reinforcement learning technique used in machine learning. The goal of Q-Learning is to learn a policy, which tells an agent what action to take under what circumstances. It does not require a model of the environment and can handle problems with stochastic transitions and rewards, without requiring adaptations._\n",
    "\n",
    "Translation: 'Q-learning is a way to figure out a maze on-the-fly, without knowing it's a maze, even if it's like a fun-house maze where somebody occasionally moves the walls around.' The word __stochastic__ means 'like a fun-house', or: at least partly random, in some way or other.\n",
    "\n",
    "It's the last part that suggests that our solution is not fully baked. The last lesson was good enough to find a path without failing, but:\n",
    "- it doesn't really develop a __policy__, in the sense that it still takes a random path\n",
    "- it examines the maze in advance... if someone moved the walls around, it would fail completely\n",
    "- it is totally inefficient\n",
    "\n"
   ]
  },
  {
   "cell_type": "markdown",
   "metadata": {},
   "source": []
  }
 ],
 "metadata": {
  "kernelspec": {
   "display_name": "Python 3",
   "language": "python",
   "name": "python3"
  },
  "language_info": {
   "codemirror_mode": {
    "name": "ipython",
    "version": 3
   },
   "file_extension": ".py",
   "mimetype": "text/x-python",
   "name": "python",
   "nbconvert_exporter": "python",
   "pygments_lexer": "ipython3",
   "version": "3.6.4"
  }
 },
 "nbformat": 4,
 "nbformat_minor": 2
}
