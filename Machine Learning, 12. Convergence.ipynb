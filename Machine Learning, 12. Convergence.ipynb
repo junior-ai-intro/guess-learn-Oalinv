{
 "cells": [
  {
   "cell_type": "code",
   "execution_count": null,
   "metadata": {},
   "outputs": [],
   "source": [
    "%matplotlib inline\n",
    "import numpy as np\n",
    "from maze import Maze\n",
    "\n",
    "discount = 0.050\n",
    "explore  = 0.001\n",
    "\n",
    "maze = Maze(record=True)\n",
    "q = np.zeros((4,4,4))\n",
    "\n",
    "for n in range(100000):\n",
    "    state = maze.reset()\n",
    "    done = False\n",
    "    while not done:     \n",
    "        if np.random.random() < explore:\n",
    "            action = maze.sample_n()\n",
    "            new_state, reward, done = maze.step(action)\n",
    "            q[state[0]][state[1]][action] += reward\n",
    "            if max(new_state) < 4 and min(new_state) >= 0:\n",
    "                q[state[0]][state[1]][action] += discount * max(q[new_state[0]][new_state[1]])\n",
    "            state = new_state\n",
    "        else:\n",
    "            state, _, done = maze.step(np.argmax(q[state[0]][state[1]]))\n",
    "maze.convergence()\n",
    "Maze.print_q(q)\n",
    "print('max q=', np.max(q), 'min q=', np.min(q))"
   ]
  },
  {
   "cell_type": "code",
   "execution_count": 23,
   "metadata": {},
   "outputs": [
    {
     "data": {
      "text/plain": [
       "0.0"
      ]
     },
     "execution_count": 23,
     "metadata": {},
     "output_type": "execute_result"
    }
   ],
   "source": [
    "np.max(q)"
   ]
  },
  {
   "cell_type": "code",
   "execution_count": null,
   "metadata": {},
   "outputs": [],
   "source": []
  }
 ],
 "metadata": {
  "kernelspec": {
   "display_name": "Python 3",
   "language": "python",
   "name": "python3"
  },
  "language_info": {
   "codemirror_mode": {
    "name": "ipython",
    "version": 3
   },
   "file_extension": ".py",
   "mimetype": "text/x-python",
   "name": "python",
   "nbconvert_exporter": "python",
   "pygments_lexer": "ipython3",
   "version": "3.6.5"
  }
 },
 "nbformat": 4,
 "nbformat_minor": 2
}
