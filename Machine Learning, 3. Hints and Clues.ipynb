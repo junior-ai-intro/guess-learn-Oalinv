{
 "cells": [
  {
   "cell_type": "markdown",
   "metadata": {},
   "source": [
    "<h1 align = 'center'>Guessing Games</h1>\n",
    "<h3 align = 'center'>machine learning, one step at a time</h3>\n",
    "<h3 align = 'center'>Step 3. Hints and Clues</h3>"
   ]
  },
  {
   "cell_type": "markdown",
   "metadata": {},
   "source": [
    "#### 3. I'm thinking of a number from 1 to 10... what if I gave you a hint, or a clue?"
   ]
  },
  {
   "cell_type": "markdown",
   "metadata": {},
   "source": [
    "What if Joe decided to be a little more forthcoming...\n",
    "\n",
    "Like this:\n",
    "<nl>\n",
    "    <li>**Bob**: pick a number from 1 to 10.\n",
    "    <li>**Joe**: OK, I picked a number.\n",
    "    <li>**Bob**: is it six?\n",
    "    <li>**Joe**: *you're too high...*\n",
    "</nl><p>\n",
    "Has Bob learned anything?\n",
    "\n",
    "**If 6 is too high, Bob learned that the number is 1, 2, 3, 4, or 5.**\n",
    "\n",
    "Let's try that, in Python:"
   ]
  },
  {
   "cell_type": "code",
   "execution_count": 1,
   "metadata": {},
   "outputs": [],
   "source": [
    "import random\n",
    "\n",
    "def hint(number, guess, s):\n",
    "    if number == guess:\n",
    "        return []                       # the guess is correct... return an empty list\n",
    "    else:\n",
    "        index = s.index(guess)\n",
    "        if guess > number:\n",
    "            return s[0:index]           # too high! return a list of only lower numbers\n",
    "        else:\n",
    "            return s[index+1:len(s)]    # too low! return a list of only higher numbers"
   ]
  },
  {
   "cell_type": "markdown",
   "metadata": {},
   "source": [
    "So for example, if Joe picks 4 and Bob guesses 6..."
   ]
  },
  {
   "cell_type": "code",
   "execution_count": 2,
   "metadata": {},
   "outputs": [
    {
     "data": {
      "text/plain": [
       "[1, 2, 3, 4, 5]"
      ]
     },
     "execution_count": 2,
     "metadata": {},
     "output_type": "execute_result"
    }
   ],
   "source": [
    "numbers = [1,2,3,4,5,6,7,8,9,10]\n",
    "joes_pick = 4\n",
    "bobs_guess = 6\n",
    "hint(joes_pick, bobs_guess, numbers)"
   ]
  },
  {
   "cell_type": "markdown",
   "metadata": {},
   "source": [
    "The response says 'too high... try again, but hint: use only the *smaller* numbers'.\n",
    "\n",
    "And if Bob had guessed 3..."
   ]
  },
  {
   "cell_type": "code",
   "execution_count": null,
   "metadata": {},
   "outputs": [],
   "source": [
    "numbers = [1,2,3,4,5,6,7,8,9,10]\n",
    "joes_pick = 4\n",
    "bobs_guess = 3\n",
    "hint(joes_pick, bobs_guess, numbers)"
   ]
  },
  {
   "cell_type": "markdown",
   "metadata": {},
   "source": [
    "The response says 'too low... try again, but hint: use only the *larger* numbers'."
   ]
  },
  {
   "cell_type": "markdown",
   "metadata": {},
   "source": [
    "Here is what happens if Bob pays attention to the hints. Run this code a few times, and compare the results."
   ]
  },
  {
   "cell_type": "code",
   "execution_count": null,
   "metadata": {},
   "outputs": [],
   "source": [
    "numbers = [1,2,3,4,5,6,7,8,9,10]\n",
    "joes_pick = random.randrange(10) + 1    # randrange(10) means 'an integer from 0 to 9', so add 1\n",
    "bobs_guess = random.randrange(10) + 1\n",
    "\n",
    "while len(numbers) > 0:\n",
    "    print(numbers,'joe picked',joes_pick,'bob guessed',bobs_guess)\n",
    "    numbers = hint(joes_pick, bobs_guess, numbers)\n",
    "    if (len(numbers) > 0):\n",
    "        bobs_guess = numbers[random.randrange(len(numbers))]  # guess again, from remaining numbers\n",
    "    else:\n",
    "        print(bobs_guess, 'is correct!')"
   ]
  },
  {
   "cell_type": "markdown",
   "metadata": {},
   "source": [
    "Bob is picking up on Joe's hints. Bob is a pretty sharp guy.\n",
    "\n",
    "If Bob tried following Joe's hints 100,000 times, how many guesses (on average) would it take Bob to guess Joe's number?"
   ]
  },
  {
   "cell_type": "code",
   "execution_count": null,
   "metadata": {},
   "outputs": [],
   "source": [
    "def guess_using_hints(numbers):             # define a function that runs through 1 guessing game\n",
    "    joes_pick = random.randrange(len(numbers)) + 1 \n",
    "    bobs_guess = random.randrange(len(numbers)) + 1\n",
    "    count = 1                               # keep track of the number of guesses\n",
    "    \n",
    "    while len(numbers) > 0:\n",
    "        numbers = hint(joes_pick, bobs_guess, numbers)\n",
    "        if (len(numbers) > 0):\n",
    "            bobs_guess = numbers[random.randrange(len(numbers))]  # guess again, from remaining numbers\n",
    "            count += 1\n",
    "        else:\n",
    "            return count                                          # return the total number of guesses\n",
    "\n",
    "total_guesses = 0\n",
    "for i in range(0,100000):\n",
    "    total_guesses += guess_using_hints([1,2,3,4,5,6,7,8,9,10])\n",
    "    \n",
    "print('average guesses', total_guesses/100000)"
   ]
  },
  {
   "cell_type": "markdown",
   "metadata": {},
   "source": [
    "By taking advantage of hints, Bob can guess the number, on average, in fewer than 4 tries... even though the vast majority of Bob's guesses are wrong.\n",
    "\n",
    "Remember the example of guessing between 1 and 2? How does that look now?"
   ]
  },
  {
   "cell_type": "code",
   "execution_count": null,
   "metadata": {},
   "outputs": [],
   "source": [
    "total_guesses = 0\n",
    "for i in range(0,100000):\n",
    "    total_guesses += guess_using_hints([1,2])\n",
    "    \n",
    "print('average guesses', total_guesses/100000)"
   ]
  },
  {
   "cell_type": "markdown",
   "metadata": {},
   "source": [
    "The result should be around 1.5 guesses, on average... which means something like 'it always takes at least one guess, but half the time it takes two'.\n",
    "\n",
    "What about guessing from among 1,000 numbers?"
   ]
  },
  {
   "cell_type": "code",
   "execution_count": null,
   "metadata": {},
   "outputs": [],
   "source": [
    "import numpy as np                              # help! I am not going to type in [1,2,3...1000]!\n",
    "np.linspace(1,1000,1000,dtype='int16').tolist() # ...oh wait... this magical function does that for me."
   ]
  },
  {
   "cell_type": "code",
   "execution_count": null,
   "metadata": {},
   "outputs": [],
   "source": [
    "total_guesses = 0\n",
    "for i in range(0,100000):\n",
    "    numbers = np.linspace(1,1000,1000,dtype='int16').tolist()\n",
    "    total_guesses += guess_using_hints(numbers)\n",
    "    \n",
    "print('average guesses', total_guesses/100000)"
   ]
  },
  {
   "cell_type": "markdown",
   "metadata": {},
   "source": [
    "Yikes! It takes only about **12 guesses**, on average, to find a number from 1 to 1,000, just by paying attention to one simple hint.\n",
    "\n",
    "***That is the fundamental principal of machine learning: <font color='blue'>guess, learning from mistakes, take hints, guess again</font>.***"
   ]
  },
  {
   "cell_type": "markdown",
   "metadata": {},
   "source": [
    "Now: you could change from a random guess to an educated guess. You could say 'hey, if you want to guess a number from 1 to 1,000, start by guessing 500, so that the resulting hint will chop the list in half'. In fact, you could pick all your guesses to always chop the list in half.\n",
    "\n",
    "In machine learning, that's called **cheating** (OK, it's really called something like a shallow algorithm, but for now, it's cheating -- for now, any time we use our intutition to guide the algorithm, we are muddying the machine-learning waters).\n",
    "\n",
    "Let's cheat, just to see what that looks like:"
   ]
  },
  {
   "cell_type": "code",
   "execution_count": null,
   "metadata": {},
   "outputs": [],
   "source": [
    "def cheat(numbers):    \n",
    "    joes_pick = random.randrange(len(numbers)) + 1 \n",
    "    bobs_guess = numbers[len(numbers)//2]            # hey Bob! pick the middle number! trust me on this!\n",
    "    count = 1                     \n",
    "    \n",
    "    while len(numbers) > 0:\n",
    "        numbers = hint(joes_pick, bobs_guess, numbers)\n",
    "        if (len(numbers) > 0):\n",
    "            bobs_guess = numbers[len(numbers)//2]    # again, Bob... pick the middle number... \n",
    "            count += 1\n",
    "        else:\n",
    "            return count                                         \n",
    "\n",
    "total_guesses = 0\n",
    "for i in range(0,100000):\n",
    "    numbers = np.linspace(1,1000,1000,dtype='int16').tolist()\n",
    "    total_guesses += cheat(numbers)\n",
    "    \n",
    "print('average guesses', total_guesses/100000)"
   ]
  },
  {
   "cell_type": "markdown",
   "metadata": {},
   "source": [
    "Bob should be down to an average of around 9 guesses. That's better than 12, but not **that** much better (remember, with no hints, the average would be 1,000).\n",
    "\n",
    "What else can we accomplish using the steps...?\n",
    "<ul>\n",
    "<li>guess\n",
    "<li>learn from mistakes\n",
    "<li>take hints\n",
    "<li>guess again\n",
    "</ul>"
   ]
  }
 ],
 "metadata": {
  "kernelspec": {
   "display_name": "Python 3",
   "language": "python",
   "name": "python3"
  },
  "language_info": {
   "codemirror_mode": {
    "name": "ipython",
    "version": 3
   },
   "file_extension": ".py",
   "mimetype": "text/x-python",
   "name": "python",
   "nbconvert_exporter": "python",
   "pygments_lexer": "ipython3",
   "version": "3.6.4"
  }
 },
 "nbformat": 4,
 "nbformat_minor": 2
}
