{
 "cells": [
  {
   "cell_type": "markdown",
   "metadata": {},
   "source": [
    "<h1 align = 'center'>Guessing Games</h1>\n",
    "<h3 align = 'center'>machine learning, one step at a time</h3>\n",
    "<h3 align = 'center'>Step 3. Hints and Clues</h3>"
   ]
  },
  {
   "cell_type": "markdown",
   "metadata": {},
   "source": [
    "#### 3. What if you had a hint, or a clue?"
   ]
  },
  {
   "cell_type": "markdown",
   "metadata": {},
   "source": [
    "What if Joe decided to be a little more forthcoming...\n",
    "\n",
    "Like this:\n",
    "<nl>\n",
    "    <li>**Bob**: pick a number from 1 to 10.\n",
    "    <li>**Joe**: OK, I picked a number.\n",
    "    <li>**Bob**: is it six?\n",
    "    <li>**Joe**: you're too high...\n",
    "</nl><p>\n",
    "Has Bob learned anything?\n",
    "\n",
    "**Bob learned that the number 1, 2, 3, 4, or 5.**\n",
    "\n",
    "Let's try that, in Python:"
   ]
  },
  {
   "cell_type": "code",
   "execution_count": 70,
   "metadata": {},
   "outputs": [
    {
     "name": "stdout",
     "output_type": "stream",
     "text": [
      "[1, 2, 3, 4, 5, 6, 7, 8, 9, 10]\n"
     ]
    }
   ],
   "source": [
    "import random\n",
    "\n",
    "s = [1,2,3,4,5,6,7,8,9,10]\n",
    "\n",
    "def respond_to_guess(number, guess, s):\n",
    "    if number == guess:\n",
    "        return 'correct!'\n",
    "    elif number > guess:\n",
    "        return \n",
    "        "
   ]
  },
  {
   "cell_type": "markdown",
   "metadata": {},
   "source": [
    "if you guessed six, and the number is not six, you could pop six off the list by finding its index:"
   ]
  },
  {
   "cell_type": "code",
   "execution_count": 71,
   "metadata": {},
   "outputs": [
    {
     "data": {
      "text/plain": [
       "6"
      ]
     },
     "execution_count": 71,
     "metadata": {},
     "output_type": "execute_result"
    }
   ],
   "source": [
    "i = s.index(6)\n",
    "s.pop(i)"
   ]
  },
  {
   "cell_type": "markdown",
   "metadata": {},
   "source": [
    "...and now the six will be gone..."
   ]
  },
  {
   "cell_type": "code",
   "execution_count": 72,
   "metadata": {},
   "outputs": [
    {
     "name": "stdout",
     "output_type": "stream",
     "text": [
      "[1, 2, 3, 4, 5, 7, 8, 9, 10]\n"
     ]
    }
   ],
   "source": [
    "print(s)"
   ]
  },
  {
   "cell_type": "markdown",
   "metadata": {},
   "source": [
    "And you could guess again, from the **remaining numbers** in the list.\n",
    "\n",
    "By guessing wrong, you learned something: you learned what is not the answer. The answer is not six. You made the list of possible answers **shorter** and the remaining problem **easier** even though the guess was wrong."
   ]
  },
  {
   "cell_type": "markdown",
   "metadata": {},
   "source": [
    "Here is a python program that tries to guess a number, learning as it goes..."
   ]
  },
  {
   "cell_type": "code",
   "execution_count": 73,
   "metadata": {},
   "outputs": [
    {
     "data": {
      "text/plain": [
       "1"
      ]
     },
     "execution_count": 73,
     "metadata": {},
     "output_type": "execute_result"
    }
   ],
   "source": [
    "import random\n",
    "\n",
    "# first, write a function that pulls a random guess from a list of numbers\n",
    "\n",
    "def guess(list):\n",
    "    index = random.randrange(len(list))  # pick a random number from 1 to the length of the list\n",
    "    return list.pop(index)               # pop that entry off of the list\n",
    "\n",
    "guess(s)"
   ]
  },
  {
   "cell_type": "code",
   "execution_count": 74,
   "metadata": {},
   "outputs": [
    {
     "data": {
      "text/plain": [
       "5"
      ]
     },
     "execution_count": 74,
     "metadata": {},
     "output_type": "execute_result"
    }
   ],
   "source": [
    "# next, try to guess the number 'x' from within the list of numbers 's'\n",
    "\n",
    "def guess_until_correct(x,s):\n",
    "    tries = 0\n",
    "    while len(s) > 0:\n",
    "        tries += 1\n",
    "        if (x == guess(s)):\n",
    "            return tries\n",
    "\n",
    "guess_until_correct(6, [1,2,3,4,5,6,7,8,9,10])"
   ]
  },
  {
   "cell_type": "markdown",
   "metadata": {},
   "source": [
    "On average, how many guesses does it take to find the right number?\n",
    "\n",
    "Let's try it 100,000 times and see what we get:"
   ]
  },
  {
   "cell_type": "code",
   "execution_count": 75,
   "metadata": {},
   "outputs": [
    {
     "name": "stdout",
     "output_type": "stream",
     "text": [
      "average 5.50228\n"
     ]
    }
   ],
   "source": [
    "sum = 0\n",
    "\n",
    "for i in range(0,100000):\n",
    "    sum += guess_until_correct(6, [1,2,3,4,5,6,7,8,9,10])\n",
    "    \n",
    "print('average', sum/100000)"
   ]
  },
  {
   "cell_type": "markdown",
   "metadata": {},
   "source": [
    "It probably takes around 5 1/2 guesses, on average, to find the number.\n",
    "\n",
    "**What's with the 1/2? Why doesn't it take an average of five guesses?**\n",
    "\n",
    "...hmmmm...\n",
    "\n",
    "What happens in this case?"
   ]
  },
  {
   "cell_type": "code",
   "execution_count": 76,
   "metadata": {},
   "outputs": [
    {
     "name": "stdout",
     "output_type": "stream",
     "text": [
      "average 1.49512\n"
     ]
    }
   ],
   "source": [
    "sum = 0\n",
    "\n",
    "for i in range(0,100000):\n",
    "    sum += guess_until_correct(1, [1,2])\n",
    "    \n",
    "print('average', sum/100000)"
   ]
  },
  {
   "cell_type": "markdown",
   "metadata": {},
   "source": [
    "The average should be around 1 1/2. That's because it **always** takes at least one guess, but half the time it takes two.\n",
    "\n",
    "The average is (1+2)/2=1.5, and it works like that for any length list.\n",
    "\n",
    "The 'extra half' is just a way of saying 'you need between 1 and 10 guesses, and the average of the numbers 1 through 10 is 5.5', or:<p>\n",
    "$$\\sum_{i=1}^{10}i = 55$$<br>\n",
    "$$\\frac{55}{10}=5.5$$<br>\n",
    "\n",
    "If we just took 100,000 random guesses, guess what would happen?"
   ]
  },
  {
   "cell_type": "code",
   "execution_count": 82,
   "metadata": {},
   "outputs": [
    {
     "data": {
      "text/plain": [
       "6"
      ]
     },
     "execution_count": 82,
     "metadata": {},
     "output_type": "execute_result"
    }
   ],
   "source": [
    "# first, write a function to try guessing randomly, without learning from prior mistakes\n",
    "\n",
    "def guess_randomly(x,s):\n",
    "    tries = 0\n",
    "    while True:\n",
    "        tries += 1\n",
    "        if x == s[random.randrange(len(s))]:\n",
    "            return tries\n",
    "\n",
    "guess_randomly(6, [1,2,3,4,5,6,7,8,9,10])"
   ]
  },
  {
   "cell_type": "code",
   "execution_count": 93,
   "metadata": {},
   "outputs": [
    {
     "name": "stdout",
     "output_type": "stream",
     "text": [
      "average 9.94625\n"
     ]
    }
   ],
   "source": [
    "# then run the function 100,000 times\n",
    "\n",
    "sum = 0\n",
    "\n",
    "for i in range(0,100000):\n",
    "    sum += guess_randomly(6, [1,2,3,4,5,6,7,8,9,10])\n",
    "    \n",
    "print('average', sum/100000)\n"
   ]
  },
  {
   "cell_type": "markdown",
   "metadata": {},
   "source": [
    "(that should take around 10 guesses, on average, to get the right answer)\n",
    "\n",
    "So **learning from mistakes** is almost <u>twice as efficient</u> as just guessing for numbers from one to ten... but what about a coin toss?"
   ]
  },
  {
   "cell_type": "code",
   "execution_count": 94,
   "metadata": {},
   "outputs": [
    {
     "name": "stdout",
     "output_type": "stream",
     "text": [
      "average 2.00694\n"
     ]
    }
   ],
   "source": [
    "# then run the function 100,000 times\n",
    "\n",
    "sum = 0\n",
    "\n",
    "for i in range(0,100000):\n",
    "    sum += guess_randomly(1, [1,2])\n",
    "    \n",
    "print('average', sum/100000)"
   ]
  },
  {
   "cell_type": "markdown",
   "metadata": {},
   "source": [
    "Yikes! It takes an average of around *two guesses* to guess from a total two choices. How is <b><u>that</u></b> possible?"
   ]
  }
 ],
 "metadata": {
  "kernelspec": {
   "display_name": "Python 3",
   "language": "python",
   "name": "python3"
  },
  "language_info": {
   "codemirror_mode": {
    "name": "ipython",
    "version": 3
   },
   "file_extension": ".py",
   "mimetype": "text/x-python",
   "name": "python",
   "nbconvert_exporter": "python",
   "pygments_lexer": "ipython3",
   "version": "3.6.4"
  }
 },
 "nbformat": 4,
 "nbformat_minor": 2
}
