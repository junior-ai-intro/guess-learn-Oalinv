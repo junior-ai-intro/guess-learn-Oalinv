{
 "cells": [
  {
   "cell_type": "code",
   "execution_count": 39,
   "metadata": {},
   "outputs": [],
   "source": [
    "from maze import *\n",
    "\n",
    "class QPlayer():\n",
    "    \n",
    "    EXPLORE = 0.01\n",
    "    \n",
    "    N,S,E,W = 0,1,2,3\n",
    "    \n",
    "    def __init__(self):\n",
    "        super().__init__()\n",
    "        self.q_table = np.zeros([4*4,4])\n",
    "        \n",
    "    def run(self, environment, explore=EXPLORE):\n",
    "        observation = environment.reset()\n",
    "        done = False\n",
    "        complete = 0\n",
    "        while not done:\n",
    "            state = observation[0] * 4 + observation[1]\n",
    "            action = np.argmax(self.q_table[state])\n",
    "            if action == 0 or np.random.random() < explore:\n",
    "                action = environment.sample()\n",
    "            observation, reward, done = environment.step(action)\n",
    "            if done:\n",
    "                self.q_table[state][action] = reward\n",
    "                return reward\n",
    "            else:\n",
    "                future_state = observation[0] * 4 + observation[1]\n",
    "                self.q_table[state][action] += reward + np.amax(self.q_table[future_state])"
   ]
  },
  {
   "cell_type": "code",
   "execution_count": 40,
   "metadata": {},
   "outputs": [
    {
     "name": "stdout",
     "output_type": "stream",
     "text": [
      "[[-1.  0. 21. -1.]\n",
      " [-1. -1. 35.  0.]\n",
      " [-1. 35. -1.  0.]\n",
      " [ 0.  0.  0.  0.]\n",
      " [ 0.  0. -1. -1.]\n",
      " [ 0.  0.  0.  0.]\n",
      " [ 0. -1. 21. -1.]\n",
      " [-1.  7. -1.  0.]\n",
      " [ 0. -1.  0. -1.]\n",
      " [-1. -1. -1.  0.]\n",
      " [ 0.  0.  0.  0.]\n",
      " [ 0.  1. -1. -1.]\n",
      " [ 0.  0.  0.  0.]\n",
      " [ 0.  0.  0.  0.]\n",
      " [ 0.  0.  0.  0.]\n",
      " [ 0.  0.  0.  0.]]\n"
     ]
    }
   ],
   "source": [
    "q = QPlayer()\n",
    "e = Maze()\n",
    "complete = 0\n",
    "for n in range(100000):\n",
    "    complete += 1 if q.run(e) > 0 else 0\n",
    "    if np.sum(q.q_table) > 100:\n",
    "        print(q.q_table)\n",
    "        break"
   ]
  },
  {
   "cell_type": "code",
   "execution_count": 41,
   "metadata": {},
   "outputs": [
    {
     "name": "stdout",
     "output_type": "stream",
     "text": [
      "===================================\n",
      "         ...  ...  ...  +++ \n",
      "enter->  (1)  (2)  (3)  +++ \n",
      "         ...  ...  ...  +++ \n",
      "\n",
      "         ...  +++  ...  ... \n",
      "         ...  +++  (4)  (5) \n",
      "         ...  +++  ...  ... \n",
      "\n",
      "         ...  ...  +++  ... \n",
      "         ...  ...  +++  (6) \n",
      "         ...  ...  +++  ... \n",
      "\n",
      "         +++  +++  ...  ... \n",
      "         +++  +++  ...  (7)  <-exit\n",
      "         +++  +++  ...  ... \n",
      "\n",
      "===================================\n"
     ]
    }
   ],
   "source": [
    "q.run(e, explore=0.0)\n",
    "print(e)"
   ]
  },
  {
   "cell_type": "code",
   "execution_count": 42,
   "metadata": {},
   "outputs": [
    {
     "name": "stdout",
     "output_type": "stream",
     "text": [
      "===================================\n",
      "         ...  ...  ...  +++ \n",
      "enter->  (1)  ...  ...  +++ \n",
      "         ...  ...  ...  +++ \n",
      "\n",
      "         ...  +++  ...  ... \n",
      "         ...  +++  ...  ... \n",
      "         ...  +++  ...  ... \n",
      "\n",
      "         ...  ...  +++  ... \n",
      "         ...  ...  +++  ... \n",
      "         ...  ...  +++  ... \n",
      "\n",
      "         +++  +++  ...  ... \n",
      "         +++  +++  ...  ...  <-exit\n",
      "         +++  +++  ...  ... \n",
      "\n",
      "===================================\n"
     ]
    }
   ],
   "source": [
    "q.run(e, explore=1.0)\n",
    "print(e)"
   ]
  },
  {
   "cell_type": "code",
   "execution_count": null,
   "metadata": {},
   "outputs": [],
   "source": []
  }
 ],
 "metadata": {
  "kernelspec": {
   "display_name": "Python 3",
   "language": "python",
   "name": "python3"
  },
  "language_info": {
   "codemirror_mode": {
    "name": "ipython",
    "version": 3
   },
   "file_extension": ".py",
   "mimetype": "text/x-python",
   "name": "python",
   "nbconvert_exporter": "python",
   "pygments_lexer": "ipython3",
   "version": "3.6.5"
  }
 },
 "nbformat": 4,
 "nbformat_minor": 2
}
