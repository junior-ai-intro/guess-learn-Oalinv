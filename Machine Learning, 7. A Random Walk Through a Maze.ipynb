{
 "cells": [
  {
   "cell_type": "markdown",
   "metadata": {},
   "source": [
    "<h1 align = 'center'>Guessing Games</h1>\n",
    "<h3 align = 'center'>machine learning, one step at a time</h3>\n",
    "<h3 align = 'center'>Step 7. A Random Walk Through a Maze</h3>"
   ]
  },
  {
   "cell_type": "markdown",
   "metadata": {},
   "source": [
    "#### 7. A random walk through a maze\n",
    "\n",
    "Let's take a walk through a 4x4 maze, starting with (1) in the upper left corner:"
   ]
  },
  {
   "cell_type": "code",
   "execution_count": 1,
   "metadata": {},
   "outputs": [
    {
     "name": "stdout",
     "output_type": "stream",
     "text": [
      "===================================\n",
      "         ...  ...  ...  +++ \n",
      "enter->  (1)  ...  ...  +++ \n",
      "         ...  ...  ...  +++ \n",
      "\n",
      "         ...  +++  ...  ... \n",
      "         ...  +++  ...  ... \n",
      "         ...  +++  ...  ... \n",
      "\n",
      "         ...  ...  +++  ... \n",
      "         ...  ...  +++  ... \n",
      "         ...  ...  +++  ... \n",
      "\n",
      "         +++  +++  ...  ... \n",
      "         +++  +++  ...  ...  <-exit\n",
      "         +++  +++  ...  ... \n",
      "\n",
      "===================================\n"
     ]
    }
   ],
   "source": [
    "from maze import Maze\n",
    "\n",
    "maze = Maze()\n",
    "print(maze)"
   ]
  },
  {
   "cell_type": "markdown",
   "metadata": {},
   "source": [
    "We can move N,S,E,W by calling the __step()__ function:"
   ]
  },
  {
   "cell_type": "code",
   "execution_count": 2,
   "metadata": {},
   "outputs": [
    {
     "name": "stdout",
     "output_type": "stream",
     "text": [
      "===================================\n",
      "         ...  ...  ...  +++ \n",
      "enter->  (1)  (2)  ...  +++ \n",
      "         ...  ...  ...  +++ \n",
      "\n",
      "         ...  +++  ...  ... \n",
      "         ...  +++  ...  ... \n",
      "         ...  +++  ...  ... \n",
      "\n",
      "         ...  ...  +++  ... \n",
      "         ...  ...  +++  ... \n",
      "         ...  ...  +++  ... \n",
      "\n",
      "         +++  +++  ...  ... \n",
      "         +++  +++  ...  ...  <-exit\n",
      "         +++  +++  ...  ... \n",
      "\n",
      "===================================\n"
     ]
    }
   ],
   "source": [
    "maze.step(Maze.E) # take one step to the East\n",
    "print(maze)"
   ]
  },
  {
   "cell_type": "markdown",
   "metadata": {},
   "source": [
    "Let's walk through the maze by taking the correct sequence of steps..."
   ]
  },
  {
   "cell_type": "code",
   "execution_count": 3,
   "metadata": {},
   "outputs": [
    {
     "name": "stdout",
     "output_type": "stream",
     "text": [
      "===================================\n",
      "         ...  ...  ...  +++ \n",
      "enter->  (1)  (2)  (3)  +++ \n",
      "         ...  ...  ...  +++ \n",
      "\n",
      "         ...  +++  ...  ... \n",
      "         ...  +++  (4)  (5) \n",
      "         ...  +++  ...  ... \n",
      "\n",
      "         ...  ...  +++  ... \n",
      "         ...  ...  +++  (6) \n",
      "         ...  ...  +++  ... \n",
      "\n",
      "         +++  +++  ...  ... \n",
      "         +++  +++  ...  (7)  <-exit\n",
      "         +++  +++  ...  ... \n",
      "\n",
      "===================================\n"
     ]
    }
   ],
   "source": [
    "maze.step(Maze.E) # (3) take another step to the East\n",
    "maze.step(Maze.S) # (4) and then one step to the South\n",
    "maze.step(Maze.E) # then (5) East, (6) South, (7) East\n",
    "maze.step(Maze.S)\n",
    "maze.step(Maze.S)\n",
    "print(maze)"
   ]
  },
  {
   "cell_type": "markdown",
   "metadata": {},
   "source": [
    "That's easy enough, because we know it's a maze. We know the rules (stay in bounds, don't step on blocked spaces), and we are smart enough to solve the question: what is the only path through the maze?\n",
    "\n",
    "_But here's the amazing thing: none of that context is really necessary. We don't need to know it's a maze. We don't need to know explicit rules. We don't even need to know we are seeking a path to an exit. We just need to know (a) what state are we in? (b) what actions can we take? and (c) when we take an action in a given state, did anthing good or bad happen? If we know those things, we could learn to traverse the maze by trial and error._\n",
    "\n",
    "The maze tells us those things. When you take a step, the maze provides feedback. How does that work?\n",
    "\n",
    "Let's start again by calling __reset()__, and noticing that __reset()__ returns an __observation__, which is just our (x,y) coordinates:"
   ]
  },
  {
   "cell_type": "code",
   "execution_count": 4,
   "metadata": {},
   "outputs": [
    {
     "name": "stdout",
     "output_type": "stream",
     "text": [
      "===================================\n",
      "         ...  ...  ...  +++ \n",
      "enter->  (1)  ...  ...  +++ \n",
      "         ...  ...  ...  +++ \n",
      "\n",
      "         ...  +++  ...  ... \n",
      "         ...  +++  ...  ... \n",
      "         ...  +++  ...  ... \n",
      "\n",
      "         ...  ...  +++  ... \n",
      "         ...  ...  +++  ... \n",
      "         ...  ...  +++  ... \n",
      "\n",
      "         +++  +++  ...  ... \n",
      "         +++  +++  ...  ...  <-exit\n",
      "         +++  +++  ...  ... \n",
      "\n",
      "===================================\n",
      "observation = [0 0]\n"
     ]
    }
   ],
   "source": [
    "observation = maze.reset()           # store the observation returned by the maze\n",
    "print(maze)\n",
    "print('observation =', observation)"
   ]
  },
  {
   "cell_type": "markdown",
   "metadata": {},
   "source": [
    "That makes sense. Our initial coordinates are (0,0).\n",
    "\n",
    "Calling step() returns more feedback... we receive an updated __observation__, along with a __reward__ and a __done__ flag.\n",
    "\n",
    "Let's take a look at those:"
   ]
  },
  {
   "cell_type": "code",
   "execution_count": 5,
   "metadata": {},
   "outputs": [
    {
     "name": "stdout",
     "output_type": "stream",
     "text": [
      "===================================\n",
      "         ...  ...  ...  +++ \n",
      "enter->  (1)  (2)  ...  +++ \n",
      "         ...  ...  ...  +++ \n",
      "\n",
      "         ...  +++  ...  ... \n",
      "         ...  +++  ...  ... \n",
      "         ...  +++  ...  ... \n",
      "\n",
      "         ...  ...  +++  ... \n",
      "         ...  ...  +++  ... \n",
      "         ...  ...  +++  ... \n",
      "\n",
      "         +++  +++  ...  ... \n",
      "         +++  +++  ...  ...  <-exit\n",
      "         +++  +++  ...  ... \n",
      "\n",
      "===================================\n",
      "observation = [0 1] reward = 0  done = False\n"
     ]
    }
   ],
   "source": [
    "observation, reward, done = maze.step(Maze.E)\n",
    "print(maze)\n",
    "print('observation =', observation, 'reward =', reward, ' done =', done)"
   ]
  },
  {
   "cell_type": "markdown",
   "metadata": {},
   "source": [
    "Those values mean:\n",
    "<pre>\n",
    "observation = [0 1]  # the player is now located at (0,1), having moved east from (0,0)\n",
    "reward = 0           # that move resulted in neither success nor failure (so the reward is zero)\n",
    "done = False         # and the attempt to traverse the maze isn't over yet\n",
    "</pre>\n",
    "\n",
    "That's all the feedback we need to guess at what __actions__ we should take. But what if we are so unaware of the details of our task that we don't even know what __actions__ are possible?\n",
    "\n",
    "The maze has a convenient function called __sample()__, which returns a random selection from the available actions. In this case, there are four: move N,S,E, or W. That information alone allows us to create a really silly, inefficient algorithm to conquer the maze, just by taking random __actions__.\n",
    "\n",
    "What happens if we ignore the feedback, and just use __sample()__ to take a random walk through the maze?\n",
    "\n",
    "Here is code that takes one random walk, showing each step along the way. Run it several times. How far can you go?"
   ]
  },
  {
   "cell_type": "code",
   "execution_count": 9,
   "metadata": {},
   "outputs": [
    {
     "name": "stdout",
     "output_type": "stream",
     "text": [
      "===================================\n",
      "         ...  ...  ...  +++ \n",
      "enter->  (1)  (2)  ...  +++ \n",
      "         ...  ...  ...  +++ \n",
      "\n",
      "         ...  +++  ...  ... \n",
      "         ...  +++  ...  ... \n",
      "         ...  +++  ...  ... \n",
      "\n",
      "         ...  ...  +++  ... \n",
      "         ...  ...  +++  ... \n",
      "         ...  ...  +++  ... \n",
      "\n",
      "         +++  +++  ...  ... \n",
      "         +++  +++  ...  ...  <-exit\n",
      "         +++  +++  ...  ... \n",
      "\n",
      "=================================== [0 1] 0 False\n",
      "===================================\n",
      "         ...  ...  ...  +++ \n",
      "enter->  (3)  (2)  ...  +++ \n",
      "         ...  ...  ...  +++ \n",
      "\n",
      "         ...  +++  ...  ... \n",
      "         ...  +++  ...  ... \n",
      "         ...  +++  ...  ... \n",
      "\n",
      "         ...  ...  +++  ... \n",
      "         ...  ...  +++  ... \n",
      "         ...  ...  +++  ... \n",
      "\n",
      "         +++  +++  ...  ... \n",
      "         +++  +++  ...  ...  <-exit\n",
      "         +++  +++  ...  ... \n",
      "\n",
      "=================================== [0 0] 0 False\n",
      "===================================\n",
      "         ...  ...  ...  +++ \n",
      "enter->  (3)  (4)  ...  +++ \n",
      "         ...  ...  ...  +++ \n",
      "\n",
      "         ...  +++  ...  ... \n",
      "         ...  +++  ...  ... \n",
      "         ...  +++  ...  ... \n",
      "\n",
      "         ...  ...  +++  ... \n",
      "         ...  ...  +++  ... \n",
      "         ...  ...  +++  ... \n",
      "\n",
      "         +++  +++  ...  ... \n",
      "         +++  +++  ...  ...  <-exit\n",
      "         +++  +++  ...  ... \n",
      "\n",
      "=================================== [0 1] 0 False\n",
      "===================================\n",
      "         ...  ...  ...  +++ \n",
      "enter->  (5)  (4)  ...  +++ \n",
      "         ...  ...  ...  +++ \n",
      "\n",
      "         ...  +++  ...  ... \n",
      "         ...  +++  ...  ... \n",
      "         ...  +++  ...  ... \n",
      "\n",
      "         ...  ...  +++  ... \n",
      "         ...  ...  +++  ... \n",
      "         ...  ...  +++  ... \n",
      "\n",
      "         +++  +++  ...  ... \n",
      "         +++  +++  ...  ...  <-exit\n",
      "         +++  +++  ...  ... \n",
      "\n",
      "=================================== [0 0] 0 False\n",
      "===================================\n",
      "         ...  ...  ...  +++ \n",
      "enter->  (5)  (4)  ...  +++ \n",
      "         ...  ...  ...  +++ \n",
      "\n",
      "         ...  +++  ...  ... \n",
      "         ...  +++  ...  ... \n",
      "         ...  +++  ...  ... \n",
      "\n",
      "         ...  ...  +++  ... \n",
      "         ...  ...  +++  ... \n",
      "         ...  ...  +++  ... \n",
      "\n",
      "         +++  +++  ...  ... \n",
      "         +++  +++  ...  ...  <-exit\n",
      "         +++  +++  ...  ... \n",
      "\n",
      "=================================== [ 0 -1] -1 True\n"
     ]
    }
   ],
   "source": [
    "# take random walks through a 4x4 maze until one attempt succeeds in reaching the exit\n",
    "maze = Maze()\n",
    "done = False\n",
    "while not done:\n",
    "    observation, reward, done = maze.step(maze.sample())  # sample() provides a random action (N,S,E,W)\n",
    "    print(maze,observation,reward,done)"
   ]
  },
  {
   "cell_type": "markdown",
   "metadata": {},
   "source": [
    "Here is code that takes a random walk until you reach the exit:"
   ]
  },
  {
   "cell_type": "code",
   "execution_count": 12,
   "metadata": {},
   "outputs": [
    {
     "name": "stdout",
     "output_type": "stream",
     "text": [
      "attempts = 10400 completions = 3  rate = 0.0002884615384615385\n"
     ]
    }
   ],
   "source": [
    "# take random walks through a 4x4 maze until one attempt succeeds in reaching the exit\n",
    "maze = Maze()\n",
    "attempts = 0             # keep track of attempts\n",
    "completions = 0          # keep track of completions\n",
    "while completions < 3:  # stop upon first complete trip through the maze\n",
    "    attempts += 1\n",
    "    observation = maze.reset()\n",
    "    done = False\n",
    "    while not done:\n",
    "        observation, reward, done = maze.step(maze.sample())  # sample() provides a random action (N,S,E,W)\n",
    "    if observation[0] == 3 and observation[1] == 3:           # did the player reach the exit?\n",
    "        completions += 1\n",
    "print('attempts =',attempts, 'completions =', completions, ' rate =', completions/attempts)"
   ]
  },
  {
   "cell_type": "markdown",
   "metadata": {},
   "source": [
    "The random walk might take anywhere from 100 to 10,000 attempts to exit the maze... run it a few more times and watch the results.\n",
    "\n",
    "Just for comparison, let's go back to cheating, but this time let's keep an eye on the __observation__, __reward__, and __done__ return values. Here is the series of moves, including the feedback:"
   ]
  },
  {
   "cell_type": "code",
   "execution_count": 13,
   "metadata": {},
   "outputs": [
    {
     "name": "stdout",
     "output_type": "stream",
     "text": [
      "initial position = [0 0]\n",
      "observation, reward, done = (array([0, 1]), 0, False)\n",
      "observation, reward, done = (array([0, 2]), 0, False)\n",
      "observation, reward, done = (array([1, 2]), 0, False)\n",
      "observation, reward, done = (array([1, 3]), 0, False)\n",
      "observation, reward, done = (array([2, 3]), 0, False)\n",
      "observation, reward, done = (array([3, 3]), 1, True)\n"
     ]
    }
   ],
   "source": [
    "print('initial position =', maze.reset())\n",
    "print('observation, reward, done =', maze.step(Maze.E))  # move to an adjacent open space\n",
    "print('observation, reward, done =', maze.step(Maze.E))  # move to an adjacent open space\n",
    "print('observation, reward, done =', maze.step(Maze.S))  # move to an adjacent open space\n",
    "print('observation, reward, done =', maze.step(Maze.E))  # move to an adjacent open space\n",
    "print('observation, reward, done =', maze.step(Maze.S))  # move to an adjacent open space\n",
    "print('observation, reward, done =', maze.step(Maze.S))  # move to the exit"
   ]
  },
  {
   "cell_type": "markdown",
   "metadata": {},
   "source": [
    "Way more efficient! ...except we cheated.\n",
    "\n",
    "There must be a better way... a way to use trial and error to learn the path through the maze, without cheating.\n",
    "\n",
    "_(there are other better ways, too, like a recursive search... but that's not part of this lesson)_\n",
    "\n",
    "For this lesson, a __machine learning__ approach creates an __agent__ to discover that sequence on its own, with as little supervision as possible. In fact, we should be able to create an __agent__ that has nothing to do with the specific task of solving a maze... it should just learn from its mistakes, regardless of the context, by receiving __observations__ and __rewards__. That's the next lesson."
   ]
  },
  {
   "cell_type": "markdown",
   "metadata": {},
   "source": [
    "<hr>\n",
    "***Excercises***<p>\n",
    "\n",
    "Alter the random walk to start at different positions in the maze. What is the relationship between the starting position and the average number of attempts required to reach the exit?"
   ]
  },
  {
   "cell_type": "code",
   "execution_count": null,
   "metadata": {},
   "outputs": [],
   "source": [
    "# take random walks through a 4x4 maze until one attempt succeeds in reaching the exit\n",
    "maze = Maze()\n",
    "attempts = 0             \n",
    "completions = 0          \n",
    "while completions == 0:  \n",
    "    attempts += 1\n",
    "    observation = maze.reset()\n",
    "    \n",
    "    # once the maze is reset, you can move the player\n",
    "    # before starting the random walk by inserting some\n",
    "    # lines here.\n",
    "      \n",
    "    done = False\n",
    "    while not done:\n",
    "        observation, reward, done = maze.step(maze.sample())  \n",
    "    if observation[0] == 3 and observation[1] == 3:           \n",
    "        completions += 1\n",
    "print('attempts =',attempts, 'completions =', completions, ' rate =', completions/attempts)"
   ]
  }
 ],
 "metadata": {
  "kernelspec": {
   "display_name": "Python 3",
   "language": "python",
   "name": "python3"
  },
  "language_info": {
   "codemirror_mode": {
    "name": "ipython",
    "version": 3
   },
   "file_extension": ".py",
   "mimetype": "text/x-python",
   "name": "python",
   "nbconvert_exporter": "python",
   "pygments_lexer": "ipython3",
   "version": "3.6.5"
  }
 },
 "nbformat": 4,
 "nbformat_minor": 2
}
