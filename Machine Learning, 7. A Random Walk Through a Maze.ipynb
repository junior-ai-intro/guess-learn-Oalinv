{
 "cells": [
  {
   "cell_type": "markdown",
   "metadata": {},
   "source": [
    "<h1 align = 'center'>Guessing Games</h1>\n",
    "<h3 align = 'center'>machine learning, one step at a time</h3>\n",
    "<h3 align = 'center'>Step 7. A Random Walk Through a Maze</h3>"
   ]
  },
  {
   "cell_type": "markdown",
   "metadata": {},
   "source": [
    "#### 7. A random walk through a maze\n",
    "\n",
    "Imagine a maze that's 4x4:"
   ]
  },
  {
   "cell_type": "code",
   "execution_count": null,
   "metadata": {},
   "outputs": [],
   "source": [
    "from maze import Maze\n",
    "maze = Maze()          # make a new maze...\n",
    "print(maze)            # ...and print it"
   ]
  },
  {
   "cell_type": "markdown",
   "metadata": {},
   "source": [
    "Let's take a walk through the maze.\n",
    "\n",
    "We always start in the upper left corner (that's why it says (1) on the maze).\n",
    "\n",
    "We can move N,S,E,W by calling the __step()__ function:"
   ]
  },
  {
   "cell_type": "code",
   "execution_count": null,
   "metadata": {},
   "outputs": [],
   "source": [
    "maze.step('E') # take one step to the East\n",
    "print(maze)"
   ]
  },
  {
   "cell_type": "markdown",
   "metadata": {},
   "source": [
    "Let's walk through the entire maze by taking the correct sequence of steps..."
   ]
  },
  {
   "cell_type": "code",
   "execution_count": null,
   "metadata": {},
   "outputs": [],
   "source": [
    "maze.step('E') # (3) take another step to the East\n",
    "maze.step('S') # (4) and then one step to the South\n",
    "maze.step('E') # then (5) East, (6) South, (7) East\n",
    "maze.step('S')\n",
    "maze.step('S')\n",
    "print(maze)"
   ]
  },
  {
   "cell_type": "markdown",
   "metadata": {},
   "source": [
    "<hr>\n",
    "__That was easy, because we know a thing or two about mazes.__\n",
    "\n",
    "In fact, we know a lot about mazes. It may be true that we know everything that there is to know about mazes.\n",
    "\n",
    "Before we could find our way, we needed to be able to answer all of these questions:\n",
    "- what is a maze?<br>\n",
    "- is this problem a maze, or some other kind of problem?<br>\n",
    "- what is the difference between an open space and a blocked space?<br>\n",
    "- what does it mean to move north, south, east, or west?<br>\n",
    "- what does it mean to stay in bounds?<br>\n",
    "- where is the exit?<br>\n",
    "- what condition represents successfully completing the maze?<br>\n",
    "\n",
    "Turns out we are _total maze experts_. We have perfect knowledge of the maze, so we can take the optimum path right away. Nobody knows more about mazes than we do.\n",
    "<hr>\n",
    "__But here's a question for a total maze expert: is any of that knowledge is really necessary?__\n",
    "\n",
    "What if we turned the problem on its head, and asked: _what is the absolute minimum amount of information needed to traverse a maze?_\n",
    "\n",
    "Do we really need to know about boundaries, and blocked spaces, or the idea of an entrance or exit?\n",
    "\n",
    "What if all we could possibly know included:\n",
    "- where we are (that's our __state__, a unique description of our circumstances).\n",
    "- what __actions__ we can take (not what each __action__ means, just what choices are available).\n",
    "- the __result__ of taking a given __action__ when in a given __state__:\n",
    "    - a __reward__, for find the exit.\n",
    "    - a __penalty__, for going out of bounds or onto a blocked space.\n",
    "    - or __nothing__ for moving to an open space.\n",
    "\n",
    "If our maze was set up to give just that limited amount of feedback, it could be solved, without knowing anything about the nature of a maze. The maze can be solved solely by examining _state transitions_. So can lots of games or puzzles, or other sorts of problems, all with the same types of algorithms.\n",
    "\n",
    "It turns out our maze provides exactly the feedback we need! (not because mazes do that; really, because this is a computer science lesson).\n",
    "\n",
    "Let's take a look:"
   ]
  },
  {
   "cell_type": "code",
   "execution_count": null,
   "metadata": {},
   "outputs": [],
   "source": [
    "state = maze.reset() # store the initial state returned by the maze\n",
    "print('initial state is =', state)"
   ]
  },
  {
   "cell_type": "markdown",
   "metadata": {},
   "source": [
    "That makes sense. Our initial coordinates are (0,0).\n",
    "\n",
    "What about knowing what actions are available, or taking an action?\n",
    "\n",
    "The maze provides a function called __action_space()__, which returns all the available actions, and __sample()__, which returns a random action from among the available actions:"
   ]
  },
  {
   "cell_type": "code",
   "execution_count": null,
   "metadata": {},
   "outputs": [],
   "source": [
    "# what actions are available?\n",
    "print('Here are all the possible actions:', maze.action_space())\n",
    "\n",
    "for n in range(5):\n",
    "    print('...a random action might be =', maze.sample())"
   ]
  },
  {
   "cell_type": "markdown",
   "metadata": {},
   "source": [
    "And when we were using __step()__, we ignored the feedback: for each __step()__, the maze returns three values:\n",
    "- an updated __state__.\n",
    "- a __reward__ (+1), a __penalty__ (-1), or __nothing__ (0).\n",
    "- a __done__ flag, which is the equivalent of 'game over'.\n",
    "\n",
    "It looks like this:"
   ]
  },
  {
   "cell_type": "code",
   "execution_count": null,
   "metadata": {},
   "outputs": [],
   "source": [
    "maze.reset()                                              # start over\n",
    "print('I moved east and this happened:', maze.step('E'))  # move to an open space, no reward or penalty\n",
    "print('I moved east and this happened:', maze.step('E'))  # and another open space...\n",
    "print('I moved east and this happened:', maze.step('E'))  # and now a blocked space, penalty! game over!"
   ]
  },
  {
   "cell_type": "markdown",
   "metadata": {},
   "source": [
    "So time for our first algorithm: take a random walk through the maze.\n",
    "\n",
    "Here is code that takes one random walk, showing each step along the way. Run it several times. How far can you go?"
   ]
  },
  {
   "cell_type": "code",
   "execution_count": null,
   "metadata": {},
   "outputs": [],
   "source": [
    "# take random walks through a 4x4 maze until one attempt succeeds in reaching the exit\n",
    "maze.reset()\n",
    "done = False\n",
    "while not done:\n",
    "    observation, reward, done = maze.step(maze.sample())  # sample() provides a random action (N,S,E,W)\n",
    "    print(maze,observation,reward,done)"
   ]
  },
  {
   "cell_type": "markdown",
   "metadata": {},
   "source": [
    "<hr>\n",
    "***Excercises***<p>\n",
    "\n",
    "Complete the program to take random walks through the maze, until the exit is reached.\n",
    "- How many attempts does that take?\n",
    "- If you succeed 1,000 times, how many attempts are required, on average, for each success?"
   ]
  },
  {
   "cell_type": "code",
   "execution_count": null,
   "metadata": {},
   "outputs": [],
   "source": [
    "from maze import Maze\n",
    "\n",
    "# take random walks through a 4x4 maze until you succeed in reaching the exit\n",
    "maze = Maze()\n",
    "attempts = 0\n",
    "successful = False \n",
    "\n",
    "while not successful:\n",
    "    attempts += 1\n",
    "    \n",
    "    #################################\n",
    "    #                               #\n",
    "    #  YOUR CODE GOES HERE...       #\n",
    "    #                               #\n",
    "    #  try a random walk... if      #\n",
    "    #  you dont' find the exit,     #\n",
    "    #  try again. And again.        #\n",
    "    #                               #\n",
    "    #################################\n",
    "    \n",
    "print(attempts)    "
   ]
  }
 ],
 "metadata": {
  "kernelspec": {
   "display_name": "Python 3",
   "language": "python",
   "name": "python3"
  },
  "language_info": {
   "codemirror_mode": {
    "name": "ipython",
    "version": 3
   },
   "file_extension": ".py",
   "mimetype": "text/x-python",
   "name": "python",
   "nbconvert_exporter": "python",
   "pygments_lexer": "ipython3",
   "version": "3.6.5"
  }
 },
 "nbformat": 4,
 "nbformat_minor": 2
}
