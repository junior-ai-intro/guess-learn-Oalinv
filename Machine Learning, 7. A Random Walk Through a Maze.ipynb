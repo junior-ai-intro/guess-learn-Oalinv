{
 "cells": [
  {
   "cell_type": "markdown",
   "metadata": {},
   "source": [
    "<h1 align = 'center'>Guessing Games</h1>\n",
    "<h3 align = 'center'>machine learning, one step at a time</h3>\n",
    "<h3 align = 'center'>Step 7. A Random Walk Through a Maze</h3>"
   ]
  },
  {
   "cell_type": "markdown",
   "metadata": {},
   "source": [
    "#### 4. A random walk through a maze\n",
    "\n",
    "Let's take a walk through a 4x4 maze, starting with (1) in the upper left corner:"
   ]
  },
  {
   "cell_type": "code",
   "execution_count": null,
   "metadata": {},
   "outputs": [],
   "source": [
    "from maze import Maze\n",
    "\n",
    "maze = Maze()\n",
    "print(maze)"
   ]
  },
  {
   "cell_type": "markdown",
   "metadata": {},
   "source": [
    "We can move N,S,E,W by calling the step() function:"
   ]
  },
  {
   "cell_type": "code",
   "execution_count": null,
   "metadata": {},
   "outputs": [],
   "source": [
    "maze.step(Maze.E) # take one step to the East\n",
    "print(maze)"
   ]
  },
  {
   "cell_type": "code",
   "execution_count": null,
   "metadata": {},
   "outputs": [],
   "source": [
    "maze.step(Maze.E) # (3) take another step to the East\n",
    "maze.step(Maze.S) # (4) and then one step to the South\n",
    "maze.step(Maze.E) # then (5) East, (6) South, (7) East\n",
    "maze.step(Maze.S)\n",
    "maze.step(Maze.S)\n",
    "print(maze)"
   ]
  },
  {
   "cell_type": "markdown",
   "metadata": {},
   "source": [
    "When you take a step, the maze provides feedback. Let's start again by calling reset(), and print the values returned by reset() and step():"
   ]
  },
  {
   "cell_type": "code",
   "execution_count": null,
   "metadata": {},
   "outputs": [],
   "source": [
    "# reset() returns an initial observation, which is the coordinates of the player's position\n",
    "observation = maze.reset()\n",
    "print(maze)\n",
    "print('observation =', observation)"
   ]
  },
  {
   "cell_type": "code",
   "execution_count": null,
   "metadata": {},
   "outputs": [],
   "source": [
    "# step() returns an updated observation, along with a reward and the 'done' flag\n",
    "# an 'observation' is just the player's coordinates, starting at (0,0)\n",
    "observation, reward, done = maze.step(Maze.E)\n",
    "print(maze)\n",
    "print('observation =', observation, 'reward =', reward, ' done =', done)"
   ]
  },
  {
   "cell_type": "markdown",
   "metadata": {},
   "source": [
    "The maze has a convenient function called sample(), which returns a random selection from the four available actions: move N,S,E, or W. What happens if we ignore the feedback, and just use sample() to take a random walk through the maze?"
   ]
  },
  {
   "cell_type": "code",
   "execution_count": null,
   "metadata": {},
   "outputs": [],
   "source": [
    "# take random walks through a 4x4 maze until one attempt succeeds in reaching the exit\n",
    "maze = Maze()\n",
    "attempts = 0             # keep track of attempts\n",
    "completions = 0          # keep track of completions\n",
    "while completions == 0:  # stop upon first complete trip through the maze\n",
    "    attempts += 1\n",
    "    observation = maze.reset()\n",
    "    done = False\n",
    "    while not done:\n",
    "        observation, reward, done = maze.step(maze.sample())  # sample() provides a random action (N,S,E,W)\n",
    "    if observation[0] == 3 and observation[1] == 3:           # did the player reach the exit?\n",
    "        completions += 1\n",
    "print('attempts =',attempts, 'completions =', completions, ' rate =', completions/attempts)"
   ]
  },
  {
   "cell_type": "markdown",
   "metadata": {},
   "source": [
    "The random walk might take anywhere from 100 to 10,000 attempts to exit the maze... run it a few more times and watch the results.\n",
    "\n",
    "Maybe it would be better to apply __machine learning__ to exploit the feedback returned by reset() and step().\n",
    "\n",
    "In machine learning terms, the maze is an __environment__. When the environment is reset(), it provides an initial __observation__, which, in the case of the maze, describes the positon of the player, initially: (0,0).\n",
    "\n",
    "To advance the __environment__ one time step, call step() and provide an __action__; the __environment__ will respond with 3-part feedback: an __observation__, a __reward__, and a __done__ flag.\n",
    "\n",
    "The __action__ is any entry from the environment's collection of possible actions (the __action space__). In the case of the maze, the __action space__ includes four actions: move north, move south, move east, or move west. Each __action__ is represented by a constant: Maze.N, Maze.S, Maze.E, Maze.W.\n",
    "\n",
    "The __reward__ indicates whether the outcome was positive (+1 for reaching the exit), negative (-1 for moving on to a blocked space or moving out of bounds), or zero for moving to an open space. Note that there is no reward for making progress... the only positive reward is acheived by completing the trip and exiting the maze.\n",
    "\n",
    "The __done__ flag indicates that the attempt is traverse the maze is complete, either because the player succeeded in reaching the exit or failed by either moving onto a blocked space or by moving out of bounds.\n",
    "\n",
    "Here are a series of moves, including the feedback:"
   ]
  },
  {
   "cell_type": "code",
   "execution_count": null,
   "metadata": {},
   "outputs": [],
   "source": [
    "print('initial position =', maze.reset())\n",
    "print('observation, reward, done =', maze.step(Maze.E))  # move to an adjacent open space\n",
    "print('observation, reward, done =', maze.step(Maze.E))  # move to an adjacent open space\n",
    "print('observation, reward, done =', maze.step(Maze.S))  # move to an adjacent open space\n",
    "print('observation, reward, done =', maze.step(Maze.S))  # move to a blocked space"
   ]
  },
  {
   "cell_type": "markdown",
   "metadata": {},
   "source": [
    "That's it! ...that's all our agent needs to know to find a solution to the maze.\n",
    "\n",
    "The idea is that we can:\n",
    "- keep track of the player's unique state (that's just the coordinates)\n",
    "- explore the action space at each state, using trial and error (that's just moving N,S,E, or W)\n",
    "- remember when an action produces a good or bad result for a given state\n",
    "\n",
    "If we can do that, and find a way to chain the states together, we can find our way through the maze."
   ]
  },
  {
   "cell_type": "markdown",
   "metadata": {},
   "source": [
    "<hr>\n",
    "***Excercises***<p>\n",
    "\n",
    "Alter the random walk to start at different positions in the maze. What is the relationship between the starting position and the average number of attempts required to reach the exit?"
   ]
  },
  {
   "cell_type": "code",
   "execution_count": null,
   "metadata": {},
   "outputs": [],
   "source": [
    "# take random walks through a 4x4 maze until one attempt succeeds in reaching the exit\n",
    "maze = Maze()\n",
    "attempts = 0             \n",
    "completions = 0          \n",
    "while completions == 0:  \n",
    "    attempts += 1\n",
    "    observation = maze.reset()\n",
    "    \n",
    "    # once the maze is reset, you can move the player\n",
    "    # before starting the random walk by inserting some\n",
    "    # lines here.\n",
    "      \n",
    "    done = False\n",
    "    while not done:\n",
    "        observation, reward, done = maze.step(maze.sample())  \n",
    "    if observation[0] == 3 and observation[1] == 3:           \n",
    "        completions += 1\n",
    "print('attempts =',attempts, 'completions =', completions, ' rate =', completions/attempts)"
   ]
  },
  {
   "cell_type": "code",
   "execution_count": null,
   "metadata": {},
   "outputs": [],
   "source": []
  }
 ],
 "metadata": {
  "kernelspec": {
   "display_name": "Python 3",
   "language": "python",
   "name": "python3"
  },
  "language_info": {
   "codemirror_mode": {
    "name": "ipython",
    "version": 3
   },
   "file_extension": ".py",
   "mimetype": "text/x-python",
   "name": "python",
   "nbconvert_exporter": "python",
   "pygments_lexer": "ipython3",
   "version": "3.6.5"
  }
 },
 "nbformat": 4,
 "nbformat_minor": 2
}
