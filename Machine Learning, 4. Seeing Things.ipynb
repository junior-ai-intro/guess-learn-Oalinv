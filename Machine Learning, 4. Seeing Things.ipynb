{
 "cells": [
  {
   "cell_type": "markdown",
   "metadata": {},
   "source": [
    "<h1 align = 'center'>Guessing Games</h1>\n",
    "<h3 align = 'center'>machine learning, one step at a time</h3>\n",
    "<h3 align = 'center'>Step 4. Seeing Things</h3>"
   ]
  },
  {
   "cell_type": "markdown",
   "metadata": {},
   "source": [
    "#### 4. Let's invent a game that involves throwing pairs of dice."
   ]
  },
  {
   "cell_type": "markdown",
   "metadata": {},
   "source": [
    "Here are the rules:\n",
    "<ul>\n",
    "<li>the maximum score is 20\n",
    "<li>roll a pair of dice, add them up, that's your score\n",
    "<li>decide if you want to roll **both dice** again... if you do, add the roll to your score\n",
    "<li>get as close as you can to a total of 20...\n",
    "<li>but if you go over 20, your score is zero.\n",
    "</ul>\n"
   ]
  },
  {
   "cell_type": "markdown",
   "metadata": {},
   "source": [
    "First, let's write a function to roll a speficied number of dice:"
   ]
  },
  {
   "cell_type": "code",
   "execution_count": 1,
   "metadata": {},
   "outputs": [
    {
     "data": {
      "text/plain": [
       "6"
      ]
     },
     "execution_count": 1,
     "metadata": {},
     "output_type": "execute_result"
    }
   ],
   "source": [
    "import random\n",
    "\n",
    "def roll_dice(number_of_dice):\n",
    "    \n",
    "    sum = 0\n",
    "    \n",
    "    for i in range(0, number_of_dice):\n",
    "        sum += random.randrange(6)+1     # randrange is 0 through 5, so add 1 to get a six-sided die roll\n",
    "        \n",
    "    return sum\n",
    "\n",
    "roll_dice(1)"
   ]
  },
  {
   "cell_type": "code",
   "execution_count": 2,
   "metadata": {},
   "outputs": [
    {
     "data": {
      "text/plain": [
       "4"
      ]
     },
     "execution_count": 2,
     "metadata": {},
     "output_type": "execute_result"
    }
   ],
   "source": [
    "roll_dice(2)"
   ]
  },
  {
   "cell_type": "code",
   "execution_count": 3,
   "metadata": {},
   "outputs": [
    {
     "data": {
      "text/plain": [
       "4"
      ]
     },
     "execution_count": 3,
     "metadata": {},
     "output_type": "execute_result"
    }
   ],
   "source": [
    "roll_dice(3)"
   ]
  },
  {
   "cell_type": "markdown",
   "metadata": {},
   "source": [
    "Now let's step back and try to **visualize** what happens when we roll dice.\n",
    "\n",
    "For example, if we roll two dice 100,000 times, how frequently does each total appear?"
   ]
  },
  {
   "cell_type": "code",
   "execution_count": 4,
   "metadata": {},
   "outputs": [],
   "source": [
    "def count_rolls(number_of_dice, number_of_rolls):\n",
    "    \n",
    "    counts = []\n",
    "    \n",
    "    for i in range(0, number_of_dice * 6 + 1):     # make a list to store the totals for each roll...\n",
    "        counts.append(0)                           # start with a list full of zeros\n",
    "    \n",
    "    for i in range(0, number_of_rolls):\n",
    "        counts[roll_dice(number_of_dice)] += 1     # for each roll, increment the related list entry\n",
    "        \n",
    "    return counts                                  # return the list, which contains a count of each r"
   ]
  },
  {
   "cell_type": "markdown",
   "metadata": {},
   "source": [
    "Let's roll two dice 100,000 times:"
   ]
  },
  {
   "cell_type": "code",
   "execution_count": 5,
   "metadata": {},
   "outputs": [
    {
     "data": {
      "text/plain": [
       "[0, 0, 2780, 5551, 8321, 11074, 13827, 16741, 13885, 10977, 8290, 5675, 2879]"
      ]
     },
     "execution_count": 5,
     "metadata": {},
     "output_type": "execute_result"
    }
   ],
   "source": [
    "count_rolls(2, 100000)"
   ]
  },
  {
   "cell_type": "markdown",
   "metadata": {},
   "source": [
    "Or, try rolling 4 dice 100,000 times:"
   ]
  },
  {
   "cell_type": "code",
   "execution_count": 6,
   "metadata": {},
   "outputs": [
    {
     "data": {
      "text/plain": [
       "[0,\n",
       " 0,\n",
       " 0,\n",
       " 0,\n",
       " 76,\n",
       " 298,\n",
       " 744,\n",
       " 1453,\n",
       " 2608,\n",
       " 4402,\n",
       " 6164,\n",
       " 8196,\n",
       " 9685,\n",
       " 10846,\n",
       " 11209,\n",
       " 10915,\n",
       " 9555,\n",
       " 8070,\n",
       " 6095,\n",
       " 4370,\n",
       " 2704,\n",
       " 1468,\n",
       " 775,\n",
       " 305,\n",
       " 62]"
      ]
     },
     "execution_count": 6,
     "metadata": {},
     "output_type": "execute_result"
    }
   ],
   "source": [
    "count_rolls(4, 100000)"
   ]
  },
  {
   "cell_type": "markdown",
   "metadata": {},
   "source": [
    "When examining these results, two things pop out right away:\n",
    "\n",
    "1. the first entries are zero, because you can't roll less than the number of dice\n",
    "2. at first glance, the numbers are hard to understand\n",
    "\n",
    "In machine learning, a **first glance** is worth a lot... visualization is important when looking for relationships in data.\n",
    "\n",
    "So let's look at a graph instead of a bunch of numbers:\n"
   ]
  },
  {
   "cell_type": "code",
   "execution_count": 7,
   "metadata": {},
   "outputs": [
    {
     "data": {
      "text/plain": [
       "[<matplotlib.lines.Line2D at 0x7f1f74062ef0>]"
      ]
     },
     "execution_count": 7,
     "metadata": {},
     "output_type": "execute_result"
    }
   ],
   "source": [
    "import matplotlib.pyplot as plt\n",
    "plt.plot(count_rolls(2,100000),'rs')"
   ]
  },
  {
   "cell_type": "markdown",
   "metadata": {},
   "source": [
    "That's better. Looks like the peak is at 7.\n",
    "\n",
    "For four dice:"
   ]
  },
  {
   "cell_type": "code",
   "execution_count": 8,
   "metadata": {},
   "outputs": [
    {
     "data": {
      "text/plain": [
       "[<matplotlib.lines.Line2D at 0x7f1f699e0ef0>]"
      ]
     },
     "execution_count": 8,
     "metadata": {},
     "output_type": "execute_result"
    },
    {
     "data": {
      "image/png": "[encoded data removed]",
      "text/plain": [
       "<matplotlib.figure.Figure at 0x7f1f69a50438>"
      ]
     },
     "metadata": {},
     "output_type": "display_data"
    }
   ],
   "source": [
    "plt.plot(count_rolls(4,100000),'bx')"
   ]
  },
  {
   "cell_type": "markdown",
   "metadata": {},
   "source": [
    "Interesting. The first example looks more like straight lines, but this one looks curved. Let's connect the dots:"
   ]
  },
  {
   "cell_type": "code",
   "execution_count": 9,
   "metadata": {},
   "outputs": [
    {
     "data": {
      "text/plain": [
       "[<matplotlib.lines.Line2D at 0x7f1f69955400>]"
      ]
     },
     "execution_count": 9,
     "metadata": {},
     "output_type": "execute_result"
    },
    {
     "data": {
      "image/png": "[encoded data removed]",
      "text/plain": [
       "<matplotlib.figure.Figure at 0x7f1f8d68e908>"
      ]
     },
     "metadata": {},
     "output_type": "display_data"
    }
   ],
   "source": [
    "plt.plot(count_rolls(4,100000),'bx-')"
   ]
  },
  {
   "cell_type": "markdown",
   "metadata": {},
   "source": [
    "Sure **seems** curved. Kind of makes you want to try 10 dice and roll a million times (this might take a minute)..."
   ]
  },
  {
   "cell_type": "code",
   "execution_count": 13,
   "metadata": {},
   "outputs": [
    {
     "data": {
      "text/plain": [
       "[<matplotlib.lines.Line2D at 0x7f1f696edc88>]"
      ]
     },
     "execution_count": 13,
     "metadata": {},
     "output_type": "execute_result"
    },
    {
     "data": {
      "image/png": "[encoded data removed]",
      "text/plain": [
       "<matplotlib.figure.Figure at 0x7f1f69859b38>"
      ]
     },
     "metadata": {},
     "output_type": "display_data"
    }
   ],
   "source": [
    "plt.plot(count_rolls(10,1000000),'go-')"
   ]
  },
  {
   "cell_type": "markdown",
   "metadata": {},
   "source": [
    "Yup. Curved. Wouldn't see that in a table of 60 numbers that add up to a million.\n",
    "\n",
    "...now that we are seeing things, let's get back to the dice game."
   ]
  },
  {
   "cell_type": "code",
   "execution_count": null,
   "metadata": {},
   "outputs": [],
   "source": []
  }
 ],
 "metadata": {
  "kernelspec": {
   "display_name": "Python 3",
   "language": "python",
   "name": "python3"
  },
  "language_info": {
   "codemirror_mode": {
    "name": "ipython",
    "version": 3
   },
   "file_extension": ".py",
   "mimetype": "text/x-python",
   "name": "python",
   "nbconvert_exporter": "python",
   "pygments_lexer": "ipython3",
   "version": "3.6.4"
  }
 },
 "nbformat": 4,
 "nbformat_minor": 2
}
