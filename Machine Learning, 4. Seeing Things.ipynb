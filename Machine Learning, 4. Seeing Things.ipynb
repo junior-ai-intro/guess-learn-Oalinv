{
 "cells": [
  {
   "cell_type": "markdown",
   "metadata": {},
   "source": [
    "<h1 align = 'center'>Guessing Games</h1>\n",
    "<h3 align = 'center'>machine learning, one step at a time</h3>\n",
    "<h3 align = 'center'>Step 4. Seeing Things</h3>"
   ]
  },
  {
   "cell_type": "markdown",
   "metadata": {},
   "source": [
    "#### 4. Let's invent a game that involves throwing pairs of dice."
   ]
  },
  {
   "cell_type": "markdown",
   "metadata": {},
   "source": [
    "Here are the rules:\n",
    "<ul>\n",
    "<li>the maximum score is 20\n",
    "<li>roll a pair of dice, add them up, that's your score\n",
    "<li>decide if you want to roll **both dice** again... if you do, add the roll to your score\n",
    "<li>get as close as you can to a total of 20...\n",
    "<li>but if you go over 20, your score is zero.\n",
    "</ul>\n"
   ]
  },
  {
   "cell_type": "markdown",
   "metadata": {},
   "source": [
    "First, let's write a function to roll a speficied number of dice:"
   ]
  },
  {
   "cell_type": "code",
   "execution_count": null,
   "metadata": {},
   "outputs": [],
   "source": [
    "import random\n",
    "\n",
    "def roll_dice(number_of_dice):\n",
    "    \n",
    "    sum = 0\n",
    "    \n",
    "    for i in range(0, number_of_dice):\n",
    "        sum += random.randrange(6)+1     # randrange is 0 through 5, so add 1 to get a six-sided die roll\n",
    "        \n",
    "    return sum\n",
    "\n",
    "roll_dice(1)"
   ]
  },
  {
   "cell_type": "code",
   "execution_count": null,
   "metadata": {},
   "outputs": [],
   "source": [
    "roll_dice(2)"
   ]
  },
  {
   "cell_type": "code",
   "execution_count": null,
   "metadata": {},
   "outputs": [],
   "source": [
    "roll_dice(3)"
   ]
  },
  {
   "cell_type": "markdown",
   "metadata": {},
   "source": [
    "Now let's step back and try to **visualize** what happens when we roll dice.\n",
    "\n",
    "For example, if we roll two dice 100,000 times, how frequently does each total appear?"
   ]
  },
  {
   "cell_type": "code",
   "execution_count": null,
   "metadata": {},
   "outputs": [],
   "source": [
    "def count_rolls(number_of_dice, number_of_rolls):\n",
    "    \n",
    "    counts = []\n",
    "    \n",
    "    for i in range(0, number_of_dice * 6 + 1):     # make a list to store the totals for each roll...\n",
    "        counts.append(0)                           # start with a list full of zeros\n",
    "    \n",
    "    for i in range(0, number_of_rolls):\n",
    "        counts[roll_dice(number_of_dice)] += 1     # for each roll, increment the related list entry\n",
    "        \n",
    "    return counts                                  # return the list, which contains a count of each r"
   ]
  },
  {
   "cell_type": "markdown",
   "metadata": {},
   "source": [
    "Let's roll two dice 100,000 times:"
   ]
  },
  {
   "cell_type": "code",
   "execution_count": null,
   "metadata": {},
   "outputs": [],
   "source": [
    "count_rolls(2, 100000)"
   ]
  },
  {
   "cell_type": "markdown",
   "metadata": {},
   "source": [
    "Or, try rolling 4 dice 100,000 times:"
   ]
  },
  {
   "cell_type": "code",
   "execution_count": null,
   "metadata": {},
   "outputs": [],
   "source": [
    "count_rolls(4, 100000)"
   ]
  },
  {
   "cell_type": "markdown",
   "metadata": {},
   "source": [
    "When examining these results, two things pop out right away:\n",
    "\n",
    "1. the first entries are zero, because you can't roll less than the number of dice\n",
    "2. at first glance, the numbers are hard to understand\n",
    "\n",
    "In machine learning, a **first glance** is worth a lot... visualization is important when looking for relationships in data.\n",
    "\n",
    "So let's look at a graph instead of a bunch of numbers:\n"
   ]
  },
  {
   "cell_type": "code",
   "execution_count": null,
   "metadata": {},
   "outputs": [],
   "source": [
    "%matplotlib inline\n",
    "import matplotlib.pyplot as plt        # this gizmo draws graphs (first line is special magic to make it work)\n",
    "plt.plot(count_rolls(2,100000),'rs')   # just provide some values...\n",
    "\n",
    "# see https://matplotlib.org/tutorials/introductory/pyplot.html"
   ]
  },
  {
   "cell_type": "markdown",
   "metadata": {},
   "source": [
    "That's better. Looks like the peak is at 7, which makes sense, if you look at every possible combination:"
   ]
  },
  {
   "cell_type": "code",
   "execution_count": null,
   "metadata": {},
   "outputs": [],
   "source": [
    "print(\"Here are the possible rolls using two 6-sided dice:\")\n",
    "for first_die in range(1,7):                 # first die is 1,2,3,4,5,6\n",
    "    row = []\n",
    "    for second_die in range(1,7):            # second die is 1,2,3,4,5,6\n",
    "        both_dice = first_die + second_die\n",
    "        row.append(both_dice)                # both dice are sum of first & second\n",
    "    print(row)"
   ]
  },
  {
   "cell_type": "markdown",
   "metadata": {},
   "source": [
    "For four dice:"
   ]
  },
  {
   "cell_type": "code",
   "execution_count": null,
   "metadata": {},
   "outputs": [],
   "source": [
    "plt.plot(count_rolls(4,100000),'bx')"
   ]
  },
  {
   "cell_type": "markdown",
   "metadata": {},
   "source": [
    "Interesting. The first example looks more like straight lines, but this one looks curved. Let's connect the dots:"
   ]
  },
  {
   "cell_type": "code",
   "execution_count": null,
   "metadata": {},
   "outputs": [],
   "source": [
    "plt.plot(count_rolls(4,100000),'bx-')"
   ]
  },
  {
   "cell_type": "markdown",
   "metadata": {},
   "source": [
    "Sure **seems** curved. Kind of makes you want to try 10 dice and roll a million times (this might take a minute)..."
   ]
  },
  {
   "cell_type": "code",
   "execution_count": null,
   "metadata": {},
   "outputs": [],
   "source": [
    "plt.plot(count_rolls(10,1000000),'go-')"
   ]
  },
  {
   "cell_type": "markdown",
   "metadata": {},
   "source": [
    "Yup. Curved. Wouldn't see that in a table of 60 numbers that add up to a million.\n",
    "\n",
    "...now that we are seeing things, let's get back to the dice game."
   ]
  },
  {
   "cell_type": "markdown",
   "metadata": {},
   "source": [
    "<hr>\n",
    "***Exercises***<p>\n",
    "\n",
    "see https://matplotlib.org/tutorials/introductory/pyplot.html\n",
    "\n",
    "**Write programs to plot these functions:**<br>\n",
    "$f(x)=x^2-3x-4$<br>\n",
    "$f(x)=x^3-8x$<br>\n",
    "$f(x)=\\frac{1}{1+e^{-x}}$\n"
   ]
  },
  {
   "cell_type": "code",
   "execution_count": null,
   "metadata": {},
   "outputs": [],
   "source": [
    "# hint... you can make a function, then evaluate it, like this:\n",
    "def f(x):\n",
    "    return x**2     # f(x) = x^2\n",
    "\n",
    "y = [f(x) for x in range(-10,10)]  # this is a 'list comprehension'\n",
    "                                   # see https://docs.python.org/3/tutorial/datastructures.html\n",
    "print(y)"
   ]
  },
  {
   "cell_type": "code",
   "execution_count": null,
   "metadata": {},
   "outputs": [],
   "source": []
  }
 ],
 "metadata": {
  "kernelspec": {
   "display_name": "Python 3",
   "language": "python",
   "name": "python3"
  },
  "language_info": {
   "codemirror_mode": {
    "name": "ipython",
    "version": 3
   },
   "file_extension": ".py",
   "mimetype": "text/x-python",
   "name": "python",
   "nbconvert_exporter": "python",
   "pygments_lexer": "ipython3",
   "version": "3.6.5"
  }
 },
 "nbformat": 4,
 "nbformat_minor": 2
}
