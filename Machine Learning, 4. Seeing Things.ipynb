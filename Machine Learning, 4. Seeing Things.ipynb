{
 "cells": [
  {
   "cell_type": "markdown",
   "metadata": {},
   "source": [
    "<h1 align = 'center'>Guessing Games</h1>\n",
    "<h3 align = 'center'>machine learning, one step at a time</h3>\n",
    "<h3 align = 'center'>Step 4. Seeing Things</h3>"
   ]
  },
  {
   "cell_type": "markdown",
   "metadata": {},
   "source": [
    "#### 4. Let's invent a game that involves throwing pairs of dice."
   ]
  },
  {
   "cell_type": "markdown",
   "metadata": {},
   "source": [
    "Here are the rules:\n",
    "<ul>\n",
    "<li>the maximum score is 20\n",
    "<li>roll a pair of dice, add them up, that's your score\n",
    "<li>decide if you want to roll **both dice** again... if you do, add the roll to your score\n",
    "<li>get as close as you can to a total of 20...\n",
    "<li>but if you go over 20, your score is zero.\n",
    "</ul>\n"
   ]
  },
  {
   "cell_type": "markdown",
   "metadata": {},
   "source": [
    "First, let's write a function to roll a speficied number of dice:"
   ]
  },
  {
   "cell_type": "code",
   "execution_count": 1,
   "metadata": {},
   "outputs": [
    {
     "data": {
      "text/plain": [
       "2"
      ]
     },
     "execution_count": 1,
     "metadata": {},
     "output_type": "execute_result"
    }
   ],
   "source": [
    "import random\n",
    "\n",
    "def roll_dice(number_of_dice):\n",
    "    \n",
    "    sum = 0\n",
    "    \n",
    "    for i in range(0, number_of_dice):\n",
    "        sum += random.randrange(6)+1     # randrange is 0 through 5, so add 1 to get a six-sided die roll\n",
    "        \n",
    "    return sum\n",
    "\n",
    "roll_dice(1)"
   ]
  },
  {
   "cell_type": "code",
   "execution_count": 2,
   "metadata": {},
   "outputs": [
    {
     "data": {
      "text/plain": [
       "3"
      ]
     },
     "execution_count": 2,
     "metadata": {},
     "output_type": "execute_result"
    }
   ],
   "source": [
    "roll_dice(2)"
   ]
  },
  {
   "cell_type": "code",
   "execution_count": 3,
   "metadata": {},
   "outputs": [
    {
     "data": {
      "text/plain": [
       "3"
      ]
     },
     "execution_count": 3,
     "metadata": {},
     "output_type": "execute_result"
    }
   ],
   "source": [
    "roll_dice(3)"
   ]
  },
  {
   "cell_type": "markdown",
   "metadata": {},
   "source": [
    "Now let's step back and try to **visualize** what happens when we roll dice.\n",
    "\n",
    "For example, if we roll two dice 100,000 times, how frequently does each total appear?"
   ]
  },
  {
   "cell_type": "code",
   "execution_count": 4,
   "metadata": {},
   "outputs": [],
   "source": [
    "def count_rolls(number_of_dice, number_of_rolls):\n",
    "    \n",
    "    counts = []\n",
    "    \n",
    "    for i in range(0, number_of_dice * 6 + 1):     # make a list to store the totals for each roll...\n",
    "        counts.append(0)                           # start with a list full of zeros\n",
    "    \n",
    "    for i in range(0, number_of_rolls):\n",
    "        counts[roll_dice(number_of_dice)] += 1     # for each roll, increment the related list entry\n",
    "        \n",
    "    return counts                                  # return the list, which contains a count of each r"
   ]
  },
  {
   "cell_type": "markdown",
   "metadata": {},
   "source": [
    "Let's roll two dice 100,000 times:"
   ]
  },
  {
   "cell_type": "code",
   "execution_count": 5,
   "metadata": {},
   "outputs": [
    {
     "data": {
      "text/plain": [
       "[0, 0, 2732, 5491, 8206, 11105, 13931, 16707, 13908, 11255, 8364, 5515, 2786]"
      ]
     },
     "execution_count": 5,
     "metadata": {},
     "output_type": "execute_result"
    }
   ],
   "source": [
    "count_rolls(2, 100000)"
   ]
  },
  {
   "cell_type": "markdown",
   "metadata": {},
   "source": [
    "Or, try rolling 4 dice 100,000 times:"
   ]
  },
  {
   "cell_type": "code",
   "execution_count": 6,
   "metadata": {},
   "outputs": [
    {
     "data": {
      "text/plain": [
       "[0,\n",
       " 0,\n",
       " 0,\n",
       " 0,\n",
       " 72,\n",
       " 336,\n",
       " 759,\n",
       " 1552,\n",
       " 2718,\n",
       " 4345,\n",
       " 6158,\n",
       " 7935,\n",
       " 9654,\n",
       " 10744,\n",
       " 11410,\n",
       " 11060,\n",
       " 9671,\n",
       " 7849,\n",
       " 6159,\n",
       " 4342,\n",
       " 2600,\n",
       " 1491,\n",
       " 755,\n",
       " 311,\n",
       " 79]"
      ]
     },
     "execution_count": 6,
     "metadata": {},
     "output_type": "execute_result"
    }
   ],
   "source": [
    "count_rolls(4, 100000)"
   ]
  },
  {
   "cell_type": "markdown",
   "metadata": {},
   "source": [
    "When examining these results, two things pop out right away:\n",
    "\n",
    "1. the first entries are zero, because you can't roll less than the number of dice\n",
    "2. at first glance, the numbers are hard to understand\n",
    "\n",
    "In machine learning, a **first glance** is worth a lot... visualization is important when looking for relationships in data.\n",
    "\n",
    "So let's look at a graph instead of a bunch of numbers:\n"
   ]
  },
  {
   "cell_type": "code",
   "execution_count": 7,
   "metadata": {},
   "outputs": [
    {
     "data": {
      "text/plain": [
       "[<matplotlib.lines.Line2D at 0x7fbae8ea5550>]"
      ]
     },
     "execution_count": 7,
     "metadata": {},
     "output_type": "execute_result"
    },
    {
     "data": {
      "image/png": "[encoded data removed]",
      "text/plain": [
       "<Figure size 432x288 with 1 Axes>"
      ]
     },
     "metadata": {},
     "output_type": "display_data"
    }
   ],
   "source": [
    "%matplotlib inline\n",
    "import matplotlib.pyplot as plt        # this gizmo draws graphs (first line is special magic to make it work)\n",
    "plt.plot(count_rolls(2,100000),'rs')   # just provide some values...\n",
    "\n",
    "# see https://matplotlib.org/tutorials/introductory/pyplot.html"
   ]
  },
  {
   "cell_type": "markdown",
   "metadata": {},
   "source": [
    "That's better. Looks like the peak is at 7, which makes sense, if you look at every possible combination:"
   ]
  },
  {
   "cell_type": "code",
   "execution_count": 8,
   "metadata": {},
   "outputs": [
    {
     "name": "stdout",
     "output_type": "stream",
     "text": [
      "Here are the possible rolls using two 6-sided dice:\n",
      "[2, 3, 4, 5, 6, 7]\n",
      "[3, 4, 5, 6, 7, 8]\n",
      "[4, 5, 6, 7, 8, 9]\n",
      "[5, 6, 7, 8, 9, 10]\n",
      "[6, 7, 8, 9, 10, 11]\n",
      "[7, 8, 9, 10, 11, 12]\n"
     ]
    }
   ],
   "source": [
    "print(\"Here are the possible rolls using two 6-sided dice:\")\n",
    "for first_die in range(1,7):                 # first die is 1,2,3,4,5,6\n",
    "    row = []\n",
    "    for second_die in range(1,7):            # second die is 1,2,3,4,5,6\n",
    "        both_dice = first_die + second_die\n",
    "        row.append(both_dice)                # both dice are sum of first & second\n",
    "    print(row)"
   ]
  },
  {
   "cell_type": "markdown",
   "metadata": {},
   "source": [
    "For four dice:"
   ]
  },
  {
   "cell_type": "code",
   "execution_count": 9,
   "metadata": {},
   "outputs": [
    {
     "data": {
      "text/plain": [
       "[<matplotlib.lines.Line2D at 0x7fbae8e43278>]"
      ]
     },
     "execution_count": 9,
     "metadata": {},
     "output_type": "execute_result"
    },
    {
     "data": {
      "image/png": "[encoded data removed]",
      "text/plain": [
       "<Figure size 432x288 with 1 Axes>"
      ]
     },
     "metadata": {},
     "output_type": "display_data"
    }
   ],
   "source": [
    "plt.plot(count_rolls(4,100000),'bx')"
   ]
  },
  {
   "cell_type": "markdown",
   "metadata": {},
   "source": [
    "Interesting. The first example looks more like straight lines, but this one looks curved. Let's connect the dots:"
   ]
  },
  {
   "cell_type": "code",
   "execution_count": 10,
   "metadata": {},
   "outputs": [
    {
     "data": {
      "text/plain": [
       "[<matplotlib.lines.Line2D at 0x7fbae8e1ce10>]"
      ]
     },
     "execution_count": 10,
     "metadata": {},
     "output_type": "execute_result"
    },
    {
     "data": {
      "image/png": "[encoded data removed]",
      "text/plain": [
       "<Figure size 432x288 with 1 Axes>"
      ]
     },
     "metadata": {},
     "output_type": "display_data"
    }
   ],
   "source": [
    "plt.plot(count_rolls(4,100000),'bx-')"
   ]
  },
  {
   "cell_type": "markdown",
   "metadata": {},
   "source": [
    "Sure **seems** curved. Kind of makes you want to try 10 dice and roll a million times (this might take a minute)..."
   ]
  },
  {
   "cell_type": "code",
   "execution_count": 11,
   "metadata": {},
   "outputs": [
    {
     "data": {
      "text/plain": [
       "[<matplotlib.lines.Line2D at 0x7fbae8d7e198>]"
      ]
     },
     "execution_count": 11,
     "metadata": {},
     "output_type": "execute_result"
    },
    {
     "data": {
      "image/png": "[encoded data removed]",
      "text/plain": [
       "<Figure size 432x288 with 1 Axes>"
      ]
     },
     "metadata": {},
     "output_type": "display_data"
    }
   ],
   "source": [
    "plt.plot(count_rolls(10,1000000),'go-')"
   ]
  },
  {
   "cell_type": "markdown",
   "metadata": {},
   "source": [
    "Yup. Curved. Wouldn't see that in a table of 60 numbers that add up to a million.\n",
    "\n",
    "...now that we are seeing things, let's get back to the dice game."
   ]
  },
  {
   "cell_type": "markdown",
   "metadata": {},
   "source": [
    "<hr>\n",
    "***Exercises***<p>\n",
    "\n",
    "Let's spend some time learning how to plot functions. We'll go back to rolling dice in the next lesson.\n",
    "\n",
    "see https://matplotlib.org/tutorials/introductory/pyplot.html\n",
    "\n",
    "**Write programs to plot these functions:**<br>\n",
    "$f(x)=x^2-3x-4$<br>\n",
    "$f(x)=x^3-8x$<br>\n",
    "$f(x)=\\frac{1}{1+e^{-x}}$\n"
   ]
  },
  {
   "cell_type": "code",
   "execution_count": null,
   "metadata": {},
   "outputs": [],
   "source": [
    "# hint... you can make a function, then evaluate it, like this:\n",
    "def f(x):\n",
    "    return x**2     # f(x) = x^2\n",
    "\n",
    "y = [f(x) for x in range(-10,10)]  # this is a 'list comprehension'\n",
    "                                   # see https://docs.python.org/3/tutorial/datastructures.html\n",
    "print(y)"
   ]
  },
  {
   "cell_type": "code",
   "execution_count": null,
   "metadata": {},
   "outputs": [],
   "source": []
  }
 ],
 "metadata": {
  "kernelspec": {
   "display_name": "Python 3",
   "language": "python",
   "name": "python3"
  },
  "language_info": {
   "codemirror_mode": {
    "name": "ipython",
    "version": 3
   },
   "file_extension": ".py",
   "mimetype": "text/x-python",
   "name": "python",
   "nbconvert_exporter": "python",
   "pygments_lexer": "ipython3",
   "version": "3.6.5"
  }
 },
 "nbformat": 4,
 "nbformat_minor": 2
}
