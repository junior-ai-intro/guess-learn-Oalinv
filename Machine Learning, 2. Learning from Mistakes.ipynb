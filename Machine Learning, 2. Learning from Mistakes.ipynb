{
 "cells": [
  {
   "cell_type": "markdown",
   "metadata": {},
   "source": [
    "<h1 align = 'center'>Guessing Games</h1>\n",
    "<h3 align = 'center'>machine learning, one step at a time</h3>\n",
    "<h3 align = 'center'>Step 2. Learning from Mistakes</h3>"
   ]
  },
  {
   "cell_type": "markdown",
   "metadata": {},
   "source": [
    "#### 2. How does a computer learning by making mistakes?"
   ]
  },
  {
   "cell_type": "markdown",
   "metadata": {},
   "source": [
    "**Learning** involves making a series of ever-better-informed guesses. All of the information about a coin toss is available the second the coin hits the ground... there is not way to learn from mistakes.\n",
    "\n",
    "But what if someone picked a number from 1 to 10?\n",
    "\n",
    "Like this:\n",
    "<nl>\n",
    "    <li>**Bob**: pick a number from 1 to 10.\n",
    "    <li>**Joe**: OK, I picked a number.\n",
    "    <li>**Bob**: is it six?\n",
    "    <li>**Joe**: no, it's not six.\n",
    "</nl><p>\n",
    "Has Bob learned anything?\n",
    "\n",
    "Bob has learned one of two things:\n",
    "1. the number is not six\n",
    "2. Joe is a liar\n",
    "\n",
    "Let's assume that Joe is not a liar. In that case, by learning that the number is not six, Bob has narrowed his guessing down from ten numbers to nine numbers.\n",
    "\n",
    "In Python, the set of numbers from one to ten looks like this:"
   ]
  },
  {
   "cell_type": "code",
   "execution_count": 1,
   "metadata": {},
   "outputs": [
    {
     "name": "stdout",
     "output_type": "stream",
     "text": [
      "[1, 2, 3, 4, 5, 6, 7, 8, 9, 10]\n"
     ]
    }
   ],
   "source": [
    "s = [1,2,3,4,5,6,7,8,9,10]\n",
    "print(s)"
   ]
  },
  {
   "cell_type": "markdown",
   "metadata": {},
   "source": [
    "if you guessed six, and the number is not six, you could pop six off the list by finding its index:"
   ]
  },
  {
   "cell_type": "code",
   "execution_count": 2,
   "metadata": {},
   "outputs": [
    {
     "data": {
      "text/plain": [
       "6"
      ]
     },
     "execution_count": 2,
     "metadata": {},
     "output_type": "execute_result"
    }
   ],
   "source": [
    "i = s.index(6)\n",
    "s.pop(i)"
   ]
  },
  {
   "cell_type": "markdown",
   "metadata": {},
   "source": [
    "...and now the six will be gone..."
   ]
  },
  {
   "cell_type": "code",
   "execution_count": 3,
   "metadata": {},
   "outputs": [
    {
     "name": "stdout",
     "output_type": "stream",
     "text": [
      "[1, 2, 3, 4, 5, 7, 8, 9, 10]\n"
     ]
    }
   ],
   "source": [
    "print(s)"
   ]
  },
  {
   "cell_type": "markdown",
   "metadata": {},
   "source": [
    "And you could guess again, from the **remaining numbers** in the list.\n",
    "\n",
    "By guessing wrong, you learned something: you learned what is not the answer. The answer is not six. You made the list of possible answers **shorter** and the remaining problem **easier** even though the guess was wrong."
   ]
  },
  {
   "cell_type": "markdown",
   "metadata": {},
   "source": [
    "Here is a python program that tries to guess a number, learning as it goes..."
   ]
  },
  {
   "cell_type": "code",
   "execution_count": 4,
   "metadata": {},
   "outputs": [
    {
     "data": {
      "text/plain": [
       "9"
      ]
     },
     "execution_count": 4,
     "metadata": {},
     "output_type": "execute_result"
    }
   ],
   "source": [
    "import random\n",
    "\n",
    "# first, write a function that pulls a random guess from a list of numbers\n",
    "\n",
    "def guess(list):\n",
    "    index = random.randrange(len(list))  # pick a random number from 1 to the length of the list\n",
    "    return list.pop(index)               # pop that entry off of the list\n",
    "\n",
    "guess(s)"
   ]
  },
  {
   "cell_type": "code",
   "execution_count": 5,
   "metadata": {},
   "outputs": [
    {
     "data": {
      "text/plain": [
       "6"
      ]
     },
     "execution_count": 5,
     "metadata": {},
     "output_type": "execute_result"
    }
   ],
   "source": [
    "# next, try to guess the number 'x' from within the list of numbers 's'\n",
    "\n",
    "def guess_until_correct(x,s):\n",
    "    tries = 0\n",
    "    while len(s) > 0:\n",
    "        tries += 1\n",
    "        if (x == guess(s)):\n",
    "            return tries\n",
    "\n",
    "guess_until_correct(6, [1,2,3,4,5,6,7,8,9,10])"
   ]
  },
  {
   "cell_type": "markdown",
   "metadata": {},
   "source": [
    "On average, how many guesses does it take to find the right number?\n",
    "\n",
    "Let's try it 100,000 times and see what we get:"
   ]
  },
  {
   "cell_type": "code",
   "execution_count": 6,
   "metadata": {},
   "outputs": [
    {
     "name": "stdout",
     "output_type": "stream",
     "text": [
      "average 5.49195\n"
     ]
    }
   ],
   "source": [
    "sum = 0\n",
    "\n",
    "for i in range(0,100000):\n",
    "    sum += guess_until_correct(6, [1,2,3,4,5,6,7,8,9,10])\n",
    "    \n",
    "print('average', sum/100000)"
   ]
  },
  {
   "cell_type": "markdown",
   "metadata": {},
   "source": [
    "It probably takes around 5 1/2 guesses, on average, to find the number.\n",
    "\n",
    "**What's with the 1/2? Why doesn't it take an average of five guesses?**\n",
    "\n",
    "...hmmmm...\n",
    "\n",
    "What happens in this case?"
   ]
  },
  {
   "cell_type": "code",
   "execution_count": 7,
   "metadata": {},
   "outputs": [
    {
     "name": "stdout",
     "output_type": "stream",
     "text": [
      "average 1.50209\n"
     ]
    }
   ],
   "source": [
    "sum = 0\n",
    "\n",
    "for i in range(0,100000):\n",
    "    sum += guess_until_correct(1, [1,2])\n",
    "    \n",
    "print('average', sum/100000)"
   ]
  },
  {
   "cell_type": "markdown",
   "metadata": {},
   "source": [
    "The average should be around 1 1/2. That's because it **always** takes at least one guess, but half the time it takes two.\n",
    "\n",
    "The average is (1+2)/2=1.5, and it works like that for any length list.\n",
    "\n",
    "The 'extra half' is just a way of saying 'you need between 1 and 10 guesses, and the average of the numbers 1 through 10 is 5.5', or:<p>\n",
    "$$\\sum_{i=1}^{10}i = 55$$<br>\n",
    "$$\\frac{55}{10}=5.5$$<br>\n",
    "\n",
    "If we just took 100,000 random guesses, guess what would happen?"
   ]
  },
  {
   "cell_type": "code",
   "execution_count": 8,
   "metadata": {},
   "outputs": [
    {
     "data": {
      "text/plain": [
       "14"
      ]
     },
     "execution_count": 8,
     "metadata": {},
     "output_type": "execute_result"
    }
   ],
   "source": [
    "# first, write a function to try guessing randomly, without learning from prior mistakes\n",
    "\n",
    "def guess_randomly(x,s):\n",
    "    tries = 0\n",
    "    while True:\n",
    "        tries += 1\n",
    "        if x == s[random.randrange(len(s))]:\n",
    "            return tries\n",
    "\n",
    "guess_randomly(6, [1,2,3,4,5,6,7,8,9,10])"
   ]
  },
  {
   "cell_type": "code",
   "execution_count": 9,
   "metadata": {},
   "outputs": [
    {
     "name": "stdout",
     "output_type": "stream",
     "text": [
      "average 10.01238\n"
     ]
    }
   ],
   "source": [
    "# then run the function 100,000 times\n",
    "\n",
    "sum = 0\n",
    "\n",
    "for i in range(0,100000):\n",
    "    sum += guess_randomly(6, [1,2,3,4,5,6,7,8,9,10])\n",
    "    \n",
    "print('average', sum/100000)\n"
   ]
  },
  {
   "cell_type": "markdown",
   "metadata": {},
   "source": [
    "(that should take around 10 guesses, on average, to get the right answer)\n",
    "\n",
    "So **learning from mistakes** is almost <u>twice as efficient</u> as just guessing for numbers from one to ten... but what about a coin toss?"
   ]
  },
  {
   "cell_type": "code",
   "execution_count": 10,
   "metadata": {},
   "outputs": [
    {
     "name": "stdout",
     "output_type": "stream",
     "text": [
      "average 2.00277\n"
     ]
    }
   ],
   "source": [
    "# then run the function 100,000 times\n",
    "\n",
    "sum = 0\n",
    "\n",
    "for i in range(0,100000):\n",
    "    sum += guess_randomly(1, [1,2])\n",
    "    \n",
    "print('average', sum/100000)"
   ]
  },
  {
   "cell_type": "markdown",
   "metadata": {},
   "source": [
    "Yikes! It takes an average of around *two guesses* to guess from a total two choices. How is <b><u>that</u></b> possible?\n",
    "\n",
    "Let's add a variable to track the **maximum** number of guesses:"
   ]
  },
  {
   "cell_type": "code",
   "execution_count": 11,
   "metadata": {},
   "outputs": [
    {
     "name": "stdout",
     "output_type": "stream",
     "text": [
      "average 2.00574 maximum 17\n"
     ]
    }
   ],
   "source": [
    "# then run the function 100,000 times\n",
    "\n",
    "sum = 0\n",
    "maximum = 0\n",
    "\n",
    "for i in range(0,100000):\n",
    "    tries = guess_randomly(1, [1,2])\n",
    "    sum += tries\n",
    "    maximum = max(tries, maximum)\n",
    "    \n",
    "print('average', sum/100000,'maximum',maximum)"
   ]
  },
  {
   "cell_type": "markdown",
   "metadata": {},
   "source": [
    "Why does it sometimes take so many guesses, for a choice of two numbers (which is essentially the same as flipping a coin)? Hint: when the program guesses incorrectly, does it **learn** anything?"
   ]
  }
 ],
 "metadata": {
  "kernelspec": {
   "display_name": "Python 3",
   "language": "python",
   "name": "python3"
  },
  "language_info": {
   "codemirror_mode": {
    "name": "ipython",
    "version": 3
   },
   "file_extension": ".py",
   "mimetype": "text/x-python",
   "name": "python",
   "nbconvert_exporter": "python",
   "pygments_lexer": "ipython3",
   "version": "3.6.4"
  }
 },
 "nbformat": 4,
 "nbformat_minor": 2
}
