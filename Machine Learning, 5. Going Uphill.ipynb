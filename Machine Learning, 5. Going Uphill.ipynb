{
 "cells": [
  {
   "cell_type": "markdown",
   "metadata": {},
   "source": [
    "<h1 align = 'center'>Guessing Games</h1>\n",
    "<h3 align = 'center'>machine learning, one step at a time</h3>\n",
    "<h3 align = 'center'>Step 5. Going Uphill</h3>"
   ]
  },
  {
   "cell_type": "markdown",
   "metadata": {},
   "source": [
    "#### 5. Let's try to play the dice game."
   ]
  },
  {
   "cell_type": "markdown",
   "metadata": {},
   "source": [
    "Remember: these are the rules:\n",
    "<ul>\n",
    "<li>the maximum score is 20\n",
    "<li>roll a pair of dice, add them up, that's your score\n",
    "    <li>decide if you want to roll <i><b>both dice</b></i> again... if you do, add the roll to your score\n",
    "<li>get as close as you can to a total of 20...\n",
    "<li>but if you go over 20, your score is zero.\n",
    "</ul>\n",
    "\n",
    "Here is our function to roll a specified number of dice:"
   ]
  },
  {
   "cell_type": "code",
   "execution_count": null,
   "metadata": {},
   "outputs": [],
   "source": [
    "import random\n",
    "\n",
    "def roll_dice(number_of_dice):\n",
    "    \n",
    "    sum = 0\n",
    "    \n",
    "    for i in range(number_of_dice):\n",
    "        sum += random.randrange(6)+1     # randrange is 0 through 5, so add 1 to get a six-sided die roll\n",
    "    return sum\n",
    "\n",
    "roll_dice(2)"
   ]
  },
  {
   "cell_type": "markdown",
   "metadata": {},
   "source": [
    "The key to the game is deciding when to roll (again) without going over the maximum score.\n",
    "\n",
    "So for any score, the program needs to guess whether rolling again is a good idea."
   ]
  },
  {
   "cell_type": "code",
   "execution_count": null,
   "metadata": {},
   "outputs": [],
   "source": [
    "def play(threshold):                  # the 'threshold' is the score above which the player stops rolling\n",
    "    \n",
    "    total_score = roll_dice(2)        # start by rolling two dice\n",
    "    \n",
    "    while total_score < threshold:    # if the score under the threshold...\n",
    "        total_score += roll_dice(2)   # roll again, and add to score\n",
    "        \n",
    "    if total_score <= 20:\n",
    "        return total_score            # if total is 20 or less, that's your score...\n",
    "    else:\n",
    "        return 0                      #  but if you go over 20, your score is zero."
   ]
  },
  {
   "cell_type": "markdown",
   "metadata": {},
   "source": [
    "Just for fun, let's say that we decide to roll if our total is less than 17, and we play 10 times:"
   ]
  },
  {
   "cell_type": "code",
   "execution_count": null,
   "metadata": {},
   "outputs": [],
   "source": [
    "for i in range(10):\n",
    "    print(play(17))     # play the game once; roll again if total is less than 17"
   ]
  },
  {
   "cell_type": "markdown",
   "metadata": {},
   "source": [
    "There's a pretty good chance that we won some, and we lost some. It's probably not the best way to play... but hey, we did not put in a lot of effort... we just picked the threshold of 17 arbitrarily.\n",
    "\n",
    "We could try a lower threshold, so we never go over a total of 20:"
   ]
  },
  {
   "cell_type": "code",
   "execution_count": null,
   "metadata": {},
   "outputs": [],
   "source": [
    "for i in range(10):\n",
    "    print(play(8))     # play the game once; roll again if total is less than 8"
   ]
  },
  {
   "cell_type": "markdown",
   "metadata": {},
   "source": [
    "Or a higher threshold, so we almost always go over a total of 20:"
   ]
  },
  {
   "cell_type": "code",
   "execution_count": null,
   "metadata": {},
   "outputs": [],
   "source": [
    "for i in range(10):\n",
    "    print(play(19))     # play the game once; roll again if total is less than 19"
   ]
  },
  {
   "cell_type": "markdown",
   "metadata": {},
   "source": [
    "But we really can't just guess the optimum threshold.\n",
    "\n",
    "**How could we use machine learning to find the optimum threshold?**\n",
    "\n",
    "For starters, let's try to understand the relationship between the threshold and the resulting score, using data visualization:"
   ]
  },
  {
   "cell_type": "code",
   "execution_count": null,
   "metadata": {},
   "outputs": [],
   "source": [
    "%matplotlib inline\n",
    "import matplotlib.pyplot as plt\n",
    "\n",
    "thresholds = []\n",
    "scores = []\n",
    "    \n",
    "for threshold in range(1,21):          # for every threshold from 1 to 20...\n",
    "    for i in range(10):                # play the game 10 times, using that threshold...\n",
    "        thresholds.append(threshold)   # and record the threshold and the score\n",
    "        scores.append(play(threshold))\n",
    "\n",
    "plt.plot(thresholds,scores,'o')        # the same score plots on top of itself, so not the best graph..."
   ]
  },
  {
   "cell_type": "markdown",
   "metadata": {},
   "source": [
    "(Take a good look at the dots)\n",
    "\n",
    "Those dots suggest that higher thresholds lead to higher scores, but if the threshold is too high, you might just score zero\n",
    "\n",
    "How about plotting each threshold versus its average score?"
   ]
  },
  {
   "cell_type": "code",
   "execution_count": null,
   "metadata": {},
   "outputs": [],
   "source": [
    "thresholds = []\n",
    "scores = []\n",
    "tries = 10000\n",
    "\n",
    "def average_score(threshold, tries):\n",
    "    total_score = 0\n",
    "    for i in range(tries):\n",
    "        total_score += play(threshold)            # add up all the scores...\n",
    "    return total_score / tries                    # ...then divide by the number of games played\n",
    "        \n",
    "for threshold in range(1,21):                     # make lists for thresholds and total scores\n",
    "    thresholds.append(threshold)\n",
    "    scores.append(0)\n",
    "\n",
    "for threshold in range(1,21):\n",
    "    scores[threshold-1] = average_score(threshold,tries)  # accumulate the total score in list of scores\n",
    "\n",
    "plt.plot(thresholds,scores,'o-')"
   ]
  },
  {
   "cell_type": "markdown",
   "metadata": {},
   "source": [
    "Looks like the highest average score is around 14 or 15 total points, using a threshold of around 12 or 13.\n",
    "\n",
    "Could a program find the optimum threshold to get the highest average score, if we set it up to guess, then learn from its mistakes?"
   ]
  },
  {
   "cell_type": "markdown",
   "metadata": {},
   "source": [
    "(if you guessed 'that's the point of the lesson', you would be right)\n",
    "\n",
    "Let's imagine we know nothing about the game, and we start by guessing a threshold of 7:"
   ]
  },
  {
   "cell_type": "code",
   "execution_count": null,
   "metadata": {},
   "outputs": [],
   "source": [
    "average_score(7,10000)"
   ]
  },
  {
   "cell_type": "markdown",
   "metadata": {},
   "source": [
    "The average score is somewhere around 10... how do we judge if that is a good score?\n",
    "\n",
    "Or: **where do we get a hint, when we need one?**"
   ]
  },
  {
   "cell_type": "markdown",
   "metadata": {},
   "source": [
    "Let's manufacture our own hint. Try moving one space to the left of 7, and then one space to the right of 7, and seeing how those results compare to each other:"
   ]
  },
  {
   "cell_type": "code",
   "execution_count": null,
   "metadata": {},
   "outputs": [],
   "source": [
    "left = average_score(7 - 1, 100000)\n",
    "right = average_score(7 + 1, 100000)\n",
    "print(left, right)"
   ]
  },
  {
   "cell_type": "markdown",
   "metadata": {},
   "source": [
    "We created a **hint**: it looks like moving to the left makes things worse (the score goes down), while moving to the right makes things better (the score goes up). In terms of a graph, **the slope is upward** for a threshold of 7:"
   ]
  },
  {
   "cell_type": "code",
   "execution_count": null,
   "metadata": {},
   "outputs": [],
   "source": [
    "# feel free to ignore these details... we are drawing a line, and aligning it with the prior results\n",
    "m = (right - left)/2                     # find the slope\n",
    "b = left-(m*7)                           # find the intercept\n",
    "x = [1,13]                               # pick endpoints\n",
    "y = [m * (xi+1) + b for xi in x]         # compute y values (the +1 is to align with prior results)\n",
    "plt.plot(x,y,'-',thresholds,scores,'o-') # plot the line along with the prior results"
   ]
  },
  {
   "cell_type": "markdown",
   "metadata": {},
   "source": [
    "To make the score higher, starting with a threshold of 7... go up the hill! (ie, move to the right).\n",
    "\n",
    "How about a threshold of 16?\n",
    "\n",
    "It's the same drill:"
   ]
  },
  {
   "cell_type": "code",
   "execution_count": null,
   "metadata": {},
   "outputs": [],
   "source": [
    "left1 = average_score(16 - 1, 100000)\n",
    "right1 = average_score(16 + 1, 100000)\n",
    "print(left1, right1)"
   ]
  },
  {
   "cell_type": "markdown",
   "metadata": {},
   "source": [
    "This time, the slope is **downward**:"
   ]
  },
  {
   "cell_type": "code",
   "execution_count": null,
   "metadata": {},
   "outputs": [],
   "source": [
    "m1 = (right1 - left1)/2                 # find the slope\n",
    "b1 = left1-(m1*16)                      # find the intercept\n",
    "x1 = [11,20]                            # pick endpoints\n",
    "y1 = [m1 * (xi+1) + b1 for xi in x1]    # compute y values (the +1 is to align with prior results)\n",
    "plt.plot(x,y,'-',x1,y1,'-',thresholds,scores,'o-')"
   ]
  },
  {
   "cell_type": "markdown",
   "metadata": {},
   "source": [
    "It stands to reason that we can manufacture hints anywhere along the curve, and use those hints to tell us which way to go. If the slope is positive, move to the right (increase the threshold in proportion to the slope). If the slope is negative, move to the left (decrease the threshold in proportion to the slope). Move a little at a time, and when the slope stops changing (more or less), that's the best threshold:"
   ]
  },
  {
   "cell_type": "code",
   "execution_count": null,
   "metadata": {},
   "outputs": [],
   "source": [
    "def get_slope(threshold):\n",
    "    return (average_score(threshold+1,10000)-average_score(threshold-1,10000))/2\n",
    "\n",
    "def get_threshold_for_maximum_score(threshold):\n",
    "    m = 999\n",
    "    while abs(m) > 0.10:             # while the slope is not close to zero\n",
    "        m = get_slope(threshold)     # compute the slope\n",
    "        threshold += m * 0.05        # update the threshold by using the slope as a hint\n",
    "    return threshold\n",
    "\n",
    "wild_guess = random.random() * 18 + 2\n",
    "print(get_threshold_for_maximum_score(wild_guess))"
   ]
  },
  {
   "cell_type": "markdown",
   "metadata": {},
   "source": [
    "I get an optimum threshold of around 12 or 13, and it takes about 20 or 30 seconds to run."
   ]
  },
  {
   "cell_type": "markdown",
   "metadata": {},
   "source": [
    "<hr>\n",
    "\n",
    "***Exercises***\n",
    "<p>\n",
    "\n",
    "(1) Write a function called *two_player(threshold_a, threshold_b)* that allows *player_a* to play against *player_b*, where each player has its own threshold, and time games go to *player_b*. The function should return true if player_a wins, and false if player_b wings.**"
   ]
  },
  {
   "cell_type": "code",
   "execution_count": null,
   "metadata": {},
   "outputs": [],
   "source": [
    "def two_player(threshold_a, threshold_b):\n",
    "    # your code goes here... play a against b, and return 'true' if a wins\n",
    "    # remember: if the score is tied, then b wins\n",
    "\n",
    "two_player(15,15)"
   ]
  },
  {
   "cell_type": "markdown",
   "metadata": {},
   "source": [
    "(2) Write a function *play_games(threshold_a, threshold_b, number_of_games)* that plays one player against the other, specifying three parameters:<ol><li>the threshold for *player_a*<li>the threshold for *player_b*<li>the number of games to play (aka 'tries')</ol><p>Return *player_a's* winning percentage."
   ]
  },
  {
   "cell_type": "code",
   "execution_count": null,
   "metadata": {},
   "outputs": [],
   "source": [
    "def play_games(threshold_a, threshold_b, tries):\n",
    "    # your code goes here... play a against b, using the specified thresholds, for the specified number of games\n",
    "\n",
    "play_games(10,10,1000)    # here is a test... player_a will probably win less than 50% of the games"
   ]
  },
  {
   "cell_type": "markdown",
   "metadata": {},
   "source": [
    "(3) BONUS CHALLENGE. Create a 3-D surface plot using your function (just execute the code, below, making sure it calls your function), as ask yourself, what does the shape indicate?"
   ]
  },
  {
   "cell_type": "code",
   "execution_count": null,
   "metadata": {},
   "outputs": [],
   "source": [
    "import numpy as np\n",
    "from mpl_toolkits.mplot3d import axes3d\n",
    "import matplotlib.pyplot as plt\n",
    "\n",
    "def play_a_versus_b(tries):\n",
    "    x = np.zeros((20,20))\n",
    "    y = np.zeros((20,20))\n",
    "    z = np.zeros((20,20))\n",
    "    for a in range(0,20):\n",
    "        for b in range(0,20):\n",
    "            x[a,b] = a\n",
    "            y[a,b] = b\n",
    "            z[a,b] = play_games(a,b,tries)  # call your function here!\n",
    "    return x,y,z\n",
    "\n",
    "x,y,z = play_a_versus_b(1000)               # play 1,000 times per cell (total = 20 x 20 x 1000)\n",
    "\n",
    "# here is how you make a 3-D wireframe plot\n",
    "# see https://matplotlib.org/mpl_toolkits/mplot3d/tutorial.html\n",
    "fig = plt.figure(figsize=(15,15))\n",
    "ax = fig.add_subplot(111, projection='3d')\n",
    "ax.plot_wireframe(x, y, z)\n",
    "plt.show()\n"
   ]
  },
  {
   "cell_type": "code",
   "execution_count": null,
   "metadata": {},
   "outputs": [],
   "source": []
  }
 ],
 "metadata": {
  "kernelspec": {
   "display_name": "Python 3",
   "language": "python",
   "name": "python3"
  },
  "language_info": {
   "codemirror_mode": {
    "name": "ipython",
    "version": 3
   },
   "file_extension": ".py",
   "mimetype": "text/x-python",
   "name": "python",
   "nbconvert_exporter": "python",
   "pygments_lexer": "ipython3",
   "version": "3.6.6"
  }
 },
 "nbformat": 4,
 "nbformat_minor": 2
}
