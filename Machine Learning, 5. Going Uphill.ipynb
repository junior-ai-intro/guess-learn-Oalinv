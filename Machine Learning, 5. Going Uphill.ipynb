{
 "cells": [
  {
   "cell_type": "markdown",
   "metadata": {},
   "source": [
    "<h1 align = 'center'>Guessing Games</h1>\n",
    "<h3 align = 'center'>machine learning, one step at a time</h3>\n",
    "<h3 align = 'center'>Step 5. Going Uphill</h3>"
   ]
  },
  {
   "cell_type": "markdown",
   "metadata": {},
   "source": [
    "#### 5. Let's try to play the dice game."
   ]
  },
  {
   "cell_type": "markdown",
   "metadata": {},
   "source": [
    "Remember: these are the rules:\n",
    "<ul>\n",
    "<li>the maximum score is 20\n",
    "<li>roll a pair of dice, add them up, that's your score\n",
    "<li>decide if you want to roll **both dice** again... if you do, add the roll to your score\n",
    "<li>get as close as you can to a total of 20...\n",
    "<li>but if you go over 20, your score is zero.\n",
    "</ul>\n",
    "\n",
    "Here is our function to roll a specified number of dice:"
   ]
  },
  {
   "cell_type": "code",
   "execution_count": 1,
   "metadata": {},
   "outputs": [
    {
     "data": {
      "text/plain": [
       "6"
      ]
     },
     "execution_count": 1,
     "metadata": {},
     "output_type": "execute_result"
    }
   ],
   "source": [
    "import random\n",
    "\n",
    "def roll_dice(number_of_dice):\n",
    "    \n",
    "    sum = 0\n",
    "    \n",
    "    for i in range(0, number_of_dice):\n",
    "        sum += random.randrange(6)+1     # randrange is 0 through 5, so add 1 to get a six-sided die roll\n",
    "    return sum\n",
    "\n",
    "\n",
    "roll_dice(2)"
   ]
  },
  {
   "cell_type": "markdown",
   "metadata": {},
   "source": [
    "The key to the game is deciding when to roll (again) without going over the maximum score.\n",
    "\n",
    "So for any score, the program needs to guess whether rolling again is a good idea."
   ]
  },
  {
   "cell_type": "code",
   "execution_count": 2,
   "metadata": {},
   "outputs": [],
   "source": [
    "def play(value):                      # the 'value' is the score above which the player stops rolling\n",
    "    \n",
    "    total_score = roll_dice(2)        # start by rolling two dice\n",
    "    \n",
    "    while total_score <= value:       # if the score is at or under the value...\n",
    "        total_score += roll_dice(2)   # roll again, and add to score\n",
    "        \n",
    "    if total_score <= 20:\n",
    "        return total_score            # if total is 20 or less, that's your score...\n",
    "    else:\n",
    "        return 0                      #  but if you go over 20, your score is zero."
   ]
  },
  {
   "cell_type": "markdown",
   "metadata": {},
   "source": [
    "Just for fun, let's say that we decide to roll if our total is less than 15, and we play 10 times:"
   ]
  },
  {
   "cell_type": "code",
   "execution_count": 3,
   "metadata": {},
   "outputs": [
    {
     "name": "stdout",
     "output_type": "stream",
     "text": [
      "20\n",
      "16\n",
      "16\n",
      "0\n",
      "0\n",
      "18\n",
      "0\n",
      "18\n",
      "16\n",
      "16\n"
     ]
    }
   ],
   "source": [
    "for i in range(0,10):\n",
    "    print(play(15))"
   ]
  },
  {
   "cell_type": "markdown",
   "metadata": {},
   "source": [
    "There's a pretty good chance that we won some, and we lost some. It's probably not the best way to play... but hey, we did not put in a lot of effort... we just picked the value of 15 arbitrarily.\n",
    "\n",
    "How could we use machine learning to find the optimum value?\n",
    "\n",
    "For starters, let's try to understand the relationship between the value and the resulting score, using data visualization:"
   ]
  },
  {
   "cell_type": "code",
   "execution_count": 4,
   "metadata": {},
   "outputs": [
    {
     "data": {
      "text/plain": [
       "[<matplotlib.lines.Line2D at 0x114964710>]"
      ]
     },
     "execution_count": 4,
     "metadata": {},
     "output_type": "execute_result"
    }
   ],
   "source": [
    "import matplotlib.pyplot as plt\n",
    "\n",
    "values = []\n",
    "scores = []\n",
    "    \n",
    "for value in range(1,21):            # for every value from 1 to 20...\n",
    "    for i in range(1,10):            # play the games 10 times...\n",
    "        values.append(value)         # and record the value and the score\n",
    "        scores.append(play(value))\n",
    "\n",
    "plt.plot(values,scores,'o')"
   ]
  },
  {
   "cell_type": "markdown",
   "metadata": {},
   "source": [
    "(Take a good look at the dots)\n",
    "\n",
    "Those dots suggest that higher values lead to higher scores, but if the value is too high, you might just score zero\n",
    "\n",
    "How about plotting eachg value versus its average score?"
   ]
  },
  {
   "cell_type": "code",
   "execution_count": 5,
   "metadata": {},
   "outputs": [
    {
     "data": {
      "text/plain": [
       "[<matplotlib.lines.Line2D at 0x11765b2e8>]"
      ]
     },
     "execution_count": 5,
     "metadata": {},
     "output_type": "execute_result"
    },
    {
     "data": {
      "image/png": "[encoded data removed]",
      "text/plain": [
       "<matplotlib.figure.Figure at 0x1171db160>"
      ]
     },
     "metadata": {},
     "output_type": "display_data"
    }
   ],
   "source": [
    "values = []\n",
    "scores = []\n",
    "tries = 10000\n",
    "\n",
    "def average_score(value, tries):\n",
    "    total_score = 0\n",
    "    for i in range(0,tries):\n",
    "        total_score += play(value)                # add up all the scores...\n",
    "    return total_score / tries                    # ...then divide by the number of games played\n",
    "        \n",
    "for value in range(1,21):                         # make lists for values and total scores\n",
    "    values.append(value)\n",
    "    scores.append(0)\n",
    "\n",
    "for value in range(1,21):\n",
    "    scores[value-1] = average_score(value,tries)  # accumulate the total score in list of scores\n",
    "\n",
    "plt.plot(values,scores,'o-')"
   ]
  },
  {
   "cell_type": "markdown",
   "metadata": {},
   "source": [
    "Looks like the highest average score is around 14 or 15, using a value of around 13.\n",
    "\n",
    "Could a program find the optimum value to get the highest average score, if we set it up to guess, then learn from its mistakes?"
   ]
  },
  {
   "cell_type": "markdown",
   "metadata": {},
   "source": [
    "(if you guessed 'that's the point of the lesson', you would be right)\n",
    "\n",
    "Let's imagine we know nothing about the game, and we start by guessing a value of 7:"
   ]
  },
  {
   "cell_type": "code",
   "execution_count": 6,
   "metadata": {},
   "outputs": [
    {
     "data": {
      "text/plain": [
       "11.2546"
      ]
     },
     "execution_count": 6,
     "metadata": {},
     "output_type": "execute_result"
    }
   ],
   "source": [
    "average_score(7,10000)"
   ]
  },
  {
   "cell_type": "markdown",
   "metadata": {},
   "source": [
    "The average score is somewhere around 11... how do we judge if that is a good score?\n",
    "\n",
    "Or: **where do we get a hint, when we need one?**"
   ]
  },
  {
   "cell_type": "markdown",
   "metadata": {},
   "source": [
    "Let's manufacture our own hint. Try moving one space to the left of 7, and then one space to the right of 7, and seeing how those results compare to each other:"
   ]
  },
  {
   "cell_type": "code",
   "execution_count": 7,
   "metadata": {},
   "outputs": [
    {
     "name": "stdout",
     "output_type": "stream",
     "text": [
      "10.00071 12.43372\n"
     ]
    }
   ],
   "source": [
    "left = average_score(7 - 1, 100000)\n",
    "right = average_score(7 + 1, 100000)\n",
    "print(left, right)"
   ]
  },
  {
   "cell_type": "markdown",
   "metadata": {},
   "source": [
    "We created a **hint**: it looks like moving to the left makes things worse (the score goes down), while moving to the right makes things better (the score goes up). In terms of a graph, **the slope is upward** for a value of 7:"
   ]
  },
  {
   "cell_type": "code",
   "execution_count": 11,
   "metadata": {},
   "outputs": [
    {
     "data": {
      "text/plain": [
       "[<matplotlib.lines.Line2D at 0x11786d400>,\n",
       " <matplotlib.lines.Line2D at 0x11786d5c0>]"
      ]
     },
     "execution_count": 11,
     "metadata": {},
     "output_type": "execute_result"
    },
    {
     "data": {
      "image/png": "[encoded data removed]",
      "text/plain": [
       "<matplotlib.figure.Figure at 0x11782c0b8>"
      ]
     },
     "metadata": {},
     "output_type": "display_data"
    }
   ],
   "source": [
    "# feel free to ignore these details... we are drawing a line, and aligning it with the prior results\n",
    "m = (right - left)/2                    # find the slope\n",
    "b = left-(m*7)                          # find the intercept\n",
    "x = [1,13]                              # pick endpoints\n",
    "y = [m * (xi+1) + b for xi in x]        # compute y values (the +1 is to align with prior results)\n",
    "plt.plot(x,y,'-',values,scores,'o-')    # plot the line along with the prior results"
   ]
  },
  {
   "cell_type": "markdown",
   "metadata": {},
   "source": [
    "To make the score higher, starting with a value of 7... go up the hill! (ie, move to the right).\n",
    "\n",
    "How about a value of 16?\n",
    "\n",
    "It's the same drill:"
   ]
  },
  {
   "cell_type": "code",
   "execution_count": 9,
   "metadata": {},
   "outputs": [
    {
     "name": "stdout",
     "output_type": "stream",
     "text": [
      "12.22772 8.06727\n"
     ]
    }
   ],
   "source": [
    "left1 = average_score(16 - 1, 100000)\n",
    "right1 = average_score(16 + 1, 100000)\n",
    "print(left1, right1)"
   ]
  },
  {
   "cell_type": "markdown",
   "metadata": {},
   "source": [
    "This time, the slope is **downward**:"
   ]
  },
  {
   "cell_type": "code",
   "execution_count": 13,
   "metadata": {},
   "outputs": [
    {
     "data": {
      "text/plain": [
       "[<matplotlib.lines.Line2D at 0x117a64550>,\n",
       " <matplotlib.lines.Line2D at 0x117a64710>,\n",
       " <matplotlib.lines.Line2D at 0x117a64f28>]"
      ]
     },
     "execution_count": 13,
     "metadata": {},
     "output_type": "execute_result"
    },
    {
     "data": {
      "image/png": "[encoded data removed]",
      "text/plain": [
       "<matplotlib.figure.Figure at 0x1179c6c50>"
      ]
     },
     "metadata": {},
     "output_type": "display_data"
    }
   ],
   "source": [
    "m1 = (right1 - left1)/2                 # find the slope\n",
    "b1 = left1-(m1*16)                      # find the intercept\n",
    "x1 = [11,20]                            # pick endpoints\n",
    "y1 = [m1 * (xi+1) + b1 for xi in x1]    # compute y values (the +1 is to align with prior results)\n",
    "plt.plot(x,y,'-',x1,y1,'-',values,scores,'o-')"
   ]
  },
  {
   "cell_type": "markdown",
   "metadata": {},
   "source": [
    "It stands to reason that we can manufacture hints anywhere along the curve, and use those hints to tell us which way to go. If the slope is positive, move to the right (increase the value in proportion to the slope). If the slope is negative, move to the left (decrease the value in proportion to the slope). Move a little at a time, and when the slope stops changing (more or less), that's the best value:"
   ]
  },
  {
   "cell_type": "code",
   "execution_count": null,
   "metadata": {},
   "outputs": [],
   "source": [
    "def get_slope(value):\n",
    "    return average_score(value+1,1000)/average_score(value-1,1000)\n",
    "\n",
    "def get_value_for_maximum_score(value):\n",
    "    m = 999\n",
    "    while m > 0.01:\n",
    "        m = get_slope(value)\n",
    "        value += m * 0.01\n",
    "    return value\n",
    "\n",
    "wild_guess = random.random() * 20\n",
    "print(get_value_for_maximum_score(wild_guess))\n"
   ]
  },
  {
   "cell_type": "code",
   "execution_count": null,
   "metadata": {},
   "outputs": [],
   "source": []
  }
 ],
 "metadata": {
  "kernelspec": {
   "display_name": "Python 3",
   "language": "python",
   "name": "python3"
  },
  "language_info": {
   "codemirror_mode": {
    "name": "ipython",
    "version": 3
   },
   "file_extension": ".py",
   "mimetype": "text/x-python",
   "name": "python",
   "nbconvert_exporter": "python",
   "pygments_lexer": "ipython3",
   "version": "3.6.4"
  }
 },
 "nbformat": 4,
 "nbformat_minor": 2
}
