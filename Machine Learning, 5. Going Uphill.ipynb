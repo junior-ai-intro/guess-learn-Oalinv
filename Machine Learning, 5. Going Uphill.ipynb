{
 "cells": [
  {
   "cell_type": "markdown",
   "metadata": {},
   "source": [
    "<h1 align = 'center'>Guessing Games</h1>\n",
    "<h3 align = 'center'>machine learning, one step at a time</h3>\n",
    "<h3 align = 'center'>Step 5. Going Downhill</h3>"
   ]
  },
  {
   "cell_type": "markdown",
   "metadata": {},
   "source": [
    "#### 5. Let's try to play the dice game."
   ]
  },
  {
   "cell_type": "markdown",
   "metadata": {},
   "source": [
    "Remember: these are the rules:\n",
    "<ul>\n",
    "<li>the maximum score is 20\n",
    "<li>roll a pair of dice, add them up, that's your score\n",
    "<li>decide if you want to roll **both dice** again... if you do, add the roll to your score\n",
    "<li>get as close as you can to a total of 20...\n",
    "<li>but if you go over 20, your score is zero.\n",
    "</ul>\n",
    "\n",
    "Here is our function to roll a specified number of dice:"
   ]
  },
  {
   "cell_type": "code",
   "execution_count": 1,
   "metadata": {},
   "outputs": [
    {
     "data": {
      "text/plain": [
       "3"
      ]
     },
     "execution_count": 1,
     "metadata": {},
     "output_type": "execute_result"
    }
   ],
   "source": [
    "import random\n",
    "\n",
    "def roll_dice(number_of_dice):\n",
    "    \n",
    "    sum = 0\n",
    "    \n",
    "    for i in range(0, number_of_dice):\n",
    "        sum += random.randrange(6)+1     # randrange is 0 through 5, so add 1 to get a six-sided die roll\n",
    "    return sum\n",
    "\n",
    "\n",
    "roll_dice(2)"
   ]
  },
  {
   "cell_type": "markdown",
   "metadata": {},
   "source": [
    "The key to the game is deciding when to roll (again) without going over the maximum score.\n",
    "\n",
    "So for any score, the program needs to guess whether rolling again is a good idea."
   ]
  },
  {
   "cell_type": "code",
   "execution_count": 69,
   "metadata": {},
   "outputs": [],
   "source": [
    "def play(limit):\n",
    "    \n",
    "    total_score = roll_dice(2)        # start by rolling two dice\n",
    "    \n",
    "    while total_score <= limit:       # if the score is at or under the limit...\n",
    "        total_score += roll_dice(2)   # roll again, and add to score\n",
    "        \n",
    "    if total_score <= 20:\n",
    "        return total_score            # if total is 20 or less, that's your score...\n",
    "    else:\n",
    "        return 0                      #  but if you go over 20, your score is zero."
   ]
  },
  {
   "cell_type": "markdown",
   "metadata": {},
   "source": [
    "Just for fun, let's say that we decide to roll if our total is less than 15, and we play 10 times:"
   ]
  },
  {
   "cell_type": "code",
   "execution_count": 70,
   "metadata": {},
   "outputs": [
    {
     "name": "stdout",
     "output_type": "stream",
     "text": [
      "19\n",
      "16\n",
      "16\n",
      "17\n",
      "19\n",
      "0\n",
      "16\n",
      "16\n",
      "19\n",
      "0\n"
     ]
    }
   ],
   "source": [
    "for i in range(0,10):\n",
    "    print(play(15))"
   ]
  },
  {
   "cell_type": "markdown",
   "metadata": {},
   "source": [
    "There's a pretty good chance that we won some, and we lost some. But hey, we did not put in a lot of effort... we just picked the limit of 15 arbitrarily.\n",
    "\n",
    "How could we use machine learning to find the optimum limit? For starters, let's try to understand the relationship between the limit and the resulting score, using data visualization:"
   ]
  },
  {
   "cell_type": "code",
   "execution_count": 71,
   "metadata": {},
   "outputs": [
    {
     "data": {
      "text/plain": [
       "[<matplotlib.lines.Line2D at 0x7f7d9f4336d8>]"
      ]
     },
     "execution_count": 71,
     "metadata": {},
     "output_type": "execute_result"
    },
    {
     "data": {
      "image/png": "[encoded data removed]",
      "text/plain": [
       "<matplotlib.figure.Figure at 0x7f7d9f521cf8>"
      ]
     },
     "metadata": {},
     "output_type": "display_data"
    }
   ],
   "source": [
    "import matplotlib.pyplot as plt\n",
    "\n",
    "limits = []\n",
    "scores = []\n",
    "    \n",
    "for limit in range(1,21):            # for every limit from 1 to 20...\n",
    "    for i in range(1,10):            # play the games 10 times...\n",
    "        limits.append(limit)         # and record the limit and the score\n",
    "        scores.append(play(limit))\n",
    "\n",
    "plt.plot(limits,scores,'o')"
   ]
  },
  {
   "cell_type": "code",
   "execution_count": null,
   "metadata": {},
   "outputs": [],
   "source": []
  },
  {
   "cell_type": "markdown",
   "metadata": {},
   "source": [
    "Those dots suggest that higher limits lead to higher scores, but if the limit is too high, you might just score zero\n",
    "\n",
    "How about plotting limit versus average score?"
   ]
  },
  {
   "cell_type": "code",
   "execution_count": 72,
   "metadata": {},
   "outputs": [
    {
     "data": {
      "text/plain": [
       "[<matplotlib.lines.Line2D at 0x7f7d9f3a1710>]"
      ]
     },
     "execution_count": 72,
     "metadata": {},
     "output_type": "execute_result"
    },
    {
     "data": {
      "image/png": "[encoded data removed]",
      "text/plain": [
       "<matplotlib.figure.Figure at 0x7f7d9f4ba4a8>"
      ]
     },
     "metadata": {},
     "output_type": "display_data"
    }
   ],
   "source": [
    "limits = []\n",
    "scores = []\n",
    "tries = 10000\n",
    "\n",
    "for limit in range(1,21):                 # make lists for limits and total scores\n",
    "    limits.append(limit)\n",
    "    scores.append(0)\n",
    "\n",
    "for limit in range(1,21):\n",
    "    for i in range(1,tries):\n",
    "        scores[limit-1] += play(limit)    # accumulate the total score in list of scores\n",
    "\n",
    "for i in range(0, 20):\n",
    "    scores[i] /= tries                    # convert to an average score (divide by the number of tries)\n",
    "    \n",
    "plt.plot(limits,scores,'o-')"
   ]
  },
  {
   "cell_type": "markdown",
   "metadata": {},
   "source": [
    "Looks like the highest average score is around 13.\n",
    "\n",
    "Could a program find the optimum limit if we set it up to guess, then learn from its mistakes, to get the highest average score?"
   ]
  },
  {
   "cell_type": "code",
   "execution_count": 73,
   "metadata": {},
   "outputs": [
    {
     "name": "stdout",
     "output_type": "stream",
     "text": [
      "17.042092517229918\n"
     ]
    },
    {
     "data": {
      "text/plain": [
       "[<matplotlib.lines.Line2D at 0x7f7d9f383eb8>]"
      ]
     },
     "execution_count": 73,
     "metadata": {},
     "output_type": "execute_result"
    },
    {
     "data": {
      "image/png": "[encoded data removed]",
      "text/plain": [
       "<matplotlib.figure.Figure at 0x7f7d9f3cb160>"
      ]
     },
     "metadata": {},
     "output_type": "display_data"
    }
   ],
   "source": [
    "guess = random.random() * 20\n",
    "guesses = []\n",
    "\n",
    "for i in range(0,10000):\n",
    "    guesses.append(guess)\n",
    "    score = play(guess)\n",
    "    if score > 0:\n",
    "        guess += 0.01\n",
    "    else:\n",
    "        guess -= 0.01   \n",
    "\n",
    "print(guess)\n",
    "plt.plot(guesses)"
   ]
  },
  {
   "cell_type": "code",
   "execution_count": null,
   "metadata": {},
   "outputs": [],
   "source": []
  },
  {
   "cell_type": "code",
   "execution_count": null,
   "metadata": {},
   "outputs": [],
   "source": []
  }
 ],
 "metadata": {
  "kernelspec": {
   "display_name": "Python 3",
   "language": "python",
   "name": "python3"
  },
  "language_info": {
   "codemirror_mode": {
    "name": "ipython",
    "version": 3
   },
   "file_extension": ".py",
   "mimetype": "text/x-python",
   "name": "python",
   "nbconvert_exporter": "python",
   "pygments_lexer": "ipython3",
   "version": "3.6.4"
  }
 },
 "nbformat": 4,
 "nbformat_minor": 2
}
