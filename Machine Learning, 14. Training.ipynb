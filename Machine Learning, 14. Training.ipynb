{
 "cells": [
  {
   "cell_type": "markdown",
   "metadata": {},
   "source": [
    "Training"
   ]
  },
  {
   "cell_type": "code",
   "execution_count": 11,
   "metadata": {},
   "outputs": [
    {
     "name": "stdout",
     "output_type": "stream",
     "text": [
      "0 0 1 0 -0.2\n",
      "10 0 11 0 -2.12\n",
      "20 0 21 0 -4.12\n",
      "30 0 31 0 -6.008\n",
      "40 0 40 1 -7.670400000000001\n",
      "50 0 50 1 -9.5104\n",
      "60 0 55 6 -10.4384\n",
      "70 0 61 10 -11.428800000000003\n",
      "80 0 67 14 -12.430720000000004\n",
      "90 0 75 16 -13.704256\n"
     ]
    }
   ],
   "source": [
    "import numpy as np\n",
    "from tictactoe import *\n",
    "\n",
    "explore = 0.20\n",
    "alpha = 0.20\n",
    "d = 0.9\n",
    "\n",
    "q = np.zeros((3**9,9))\n",
    "\n",
    "win = 0\n",
    "loss = 0\n",
    "tie = 0\n",
    "\n",
    "env = Game()\n",
    "for n in range(100):\n",
    "    state = env.reset()\n",
    "    done = False\n",
    "    while not done:\n",
    "        if np.random.random() < explore:\n",
    "            action = env.sample()\n",
    "        else:\n",
    "            action = np.argmax(q[state])\n",
    "        new_state, reward, done = env.step(action)\n",
    "        q[state][action] = (1-alpha) * q[state][action] + alpha * (reward + d * np.amax(q[new_state]))\n",
    "        state = new_state\n",
    "        \n",
    "    if reward == 1:\n",
    "        win += 1\n",
    "    elif reward == 0:\n",
    "        tie += 1\n",
    "    else:\n",
    "        loss += 1\n",
    "\n",
    "    if n % 10 == 0:\n",
    "        print(n,win,loss,tie,np.sum(q))"
   ]
  },
  {
   "cell_type": "code",
   "execution_count": null,
   "metadata": {},
   "outputs": [],
   "source": []
  }
 ],
 "metadata": {
  "kernelspec": {
   "display_name": "Python 3",
   "language": "python",
   "name": "python3"
  },
  "language_info": {
   "codemirror_mode": {
    "name": "ipython",
    "version": 3
   },
   "file_extension": ".py",
   "mimetype": "text/x-python",
   "name": "python",
   "nbconvert_exporter": "python",
   "pygments_lexer": "ipython3",
   "version": "3.6.5"
  }
 },
 "nbformat": 4,
 "nbformat_minor": 2
}
