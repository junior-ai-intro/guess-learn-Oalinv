{
 "cells": [
  {
   "cell_type": "markdown",
   "metadata": {},
   "source": [
    "<h1 align = 'center'>Guessing Games</h1>\n",
    "<h3 align = 'center'>machine learning, one step at a time</h3>\n",
    "<h3 align = 'center'>Step 1. The Difference Between Guessing and Learning</h3>"
   ]
  },
  {
   "cell_type": "markdown",
   "metadata": {},
   "source": [
    "#### 1. What is the the difference between guessing and learning?"
   ]
  },
  {
   "cell_type": "markdown",
   "metadata": {},
   "source": [
    "Let's start to explore the difference between *guessing* and *learning*.\n",
    "\n",
    "Here is an example of *guessing*...\n",
    "\n",
    "If someone flips a coin, and asks you to guess 'heads' or 'tails', you can do one of two things:\n",
    "    1. you can guess 'heads'\n",
    "    2. you can guess 'tails'\n",
    "In Python, that looks like this:"
   ]
  },
  {
   "cell_type": "code",
   "execution_count": 1,
   "metadata": {},
   "outputs": [],
   "source": [
    "def guess_heads():\n",
    "    return 'heads'\n",
    "\n",
    "def guess_tails():\n",
    "    return 'tails'"
   ]
  },
  {
   "cell_type": "code",
   "execution_count": 2,
   "metadata": {},
   "outputs": [
    {
     "data": {
      "text/plain": [
       "'heads'"
      ]
     },
     "execution_count": 2,
     "metadata": {},
     "output_type": "execute_result"
    }
   ],
   "source": [
    "guess_heads()"
   ]
  },
  {
   "cell_type": "code",
   "execution_count": 3,
   "metadata": {},
   "outputs": [
    {
     "data": {
      "text/plain": [
       "'tails'"
      ]
     },
     "execution_count": 3,
     "metadata": {},
     "output_type": "execute_result"
    }
   ],
   "source": [
    "guess_tails()"
   ]
  },
  {
   "cell_type": "markdown",
   "metadata": {},
   "source": [
    "To flip a coin, you might do something like this:"
   ]
  },
  {
   "cell_type": "code",
   "execution_count": 4,
   "metadata": {},
   "outputs": [
    {
     "data": {
      "text/plain": [
       "'tails'"
      ]
     },
     "execution_count": 4,
     "metadata": {},
     "output_type": "execute_result"
    }
   ],
   "source": [
    "import random                   # get all the random number stuff that we might need\n",
    "\n",
    "def flip():                     # make a function to flip a coin, 50/50 for heads or tails\n",
    "    if random.random() < .5:    # random.random() returns a random number from 0 to 1\n",
    "        return 'heads'\n",
    "    else:\n",
    "        return 'tails'\n",
    "    \n",
    "flip()                          # flip the coin"
   ]
  },
  {
   "cell_type": "markdown",
   "metadata": {},
   "source": [
    "To flip a coin ten times, it's something like this:"
   ]
  },
  {
   "cell_type": "code",
   "execution_count": 5,
   "metadata": {},
   "outputs": [
    {
     "name": "stdout",
     "output_type": "stream",
     "text": [
      "0 heads\n",
      "1 heads\n",
      "2 tails\n",
      "3 tails\n",
      "4 heads\n",
      "5 tails\n",
      "6 heads\n",
      "7 tails\n",
      "8 heads\n",
      "9 tails\n"
     ]
    }
   ],
   "source": [
    "for i in range(0,10):\n",
    "    print(i, flip())"
   ]
  },
  {
   "cell_type": "markdown",
   "metadata": {},
   "source": [
    "...and to guess, it would be something like this:"
   ]
  },
  {
   "cell_type": "code",
   "execution_count": 6,
   "metadata": {},
   "outputs": [
    {
     "data": {
      "text/plain": [
       "'tails'"
      ]
     },
     "execution_count": 6,
     "metadata": {},
     "output_type": "execute_result"
    }
   ],
   "source": [
    "def guess():\n",
    "    if random.random() < .5:\n",
    "        return guess_heads()\n",
    "    else:\n",
    "        return guess_tails()\n",
    "    \n",
    "guess()"
   ]
  },
  {
   "cell_type": "markdown",
   "metadata": {},
   "source": [
    "To guess ten times, try this:"
   ]
  },
  {
   "cell_type": "code",
   "execution_count": 7,
   "metadata": {},
   "outputs": [
    {
     "name": "stdout",
     "output_type": "stream",
     "text": [
      "flip  guess result\n",
      "===== ===== ======\n",
      "tails heads wrong!\n",
      "heads tails wrong!\n",
      "tails tails right!\n",
      "heads heads right!\n",
      "tails heads wrong!\n",
      "tails heads wrong!\n",
      "tails heads wrong!\n",
      "tails tails right!\n",
      "tails tails right!\n",
      "tails heads wrong!\n"
     ]
    }
   ],
   "source": [
    "print('flip  guess result')\n",
    "print('===== ===== ======')\n",
    "for i in range(0,10):\n",
    "    f = flip()\n",
    "    g = guess()\n",
    "    if f==g:\n",
    "        print(f, g, 'right!')\n",
    "    else:\n",
    "        print(f, g, 'wrong!')"
   ]
  },
  {
   "cell_type": "markdown",
   "metadata": {},
   "source": [
    "And to guess 10,000 times, try this:"
   ]
  },
  {
   "cell_type": "code",
   "execution_count": 8,
   "metadata": {},
   "outputs": [
    {
     "name": "stdout",
     "output_type": "stream",
     "text": [
      "5062 correct out of  10000 success rate= 50.62 %\n"
     ]
    }
   ],
   "source": [
    "right = 0\n",
    "total = 10000\n",
    "for i in range(0,total):\n",
    "    if flip()==guess():\n",
    "        right += 1\n",
    "print(right,'correct out of ', total, 'success rate=',right*100/total,'%')"
   ]
  },
  {
   "cell_type": "markdown",
   "metadata": {},
   "source": [
    "**Now here is a question: if you are flipping a coin more than once, can anything be learned about the next flip from any prior flip?**\n",
    "\n",
    "And here is the answer: *no*.\n",
    "\n",
    "The coin only has two sides. That means that whether your guess is right or wrong, your learn everything that you can possibly know when the coin is flipped. That's why people flip coins... once it's over, there is nothing else to know.\n",
    "\n",
    "So what is the difference between **guessing** and **learning**?\n",
    "\n",
    "**Learning** involves making a series of ever-better-informed guesses. All of the information about a coin toss is available the second the coin hits the ground... there is not way to learn from mistakes."
   ]
  },
  {
   "cell_type": "code",
   "execution_count": null,
   "metadata": {},
   "outputs": [],
   "source": []
  }
 ],
 "metadata": {
  "kernelspec": {
   "display_name": "Python 3",
   "language": "python",
   "name": "python3"
  },
  "language_info": {
   "codemirror_mode": {
    "name": "ipython",
    "version": 3
   },
   "file_extension": ".py",
   "mimetype": "text/x-python",
   "name": "python",
   "nbconvert_exporter": "python",
   "pygments_lexer": "ipython3",
   "version": "3.6.4"
  }
 },
 "nbformat": 4,
 "nbformat_minor": 2
}
